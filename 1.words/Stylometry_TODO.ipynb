{
 "cells": [
  {
   "cell_type": "markdown",
   "id": "73423b4a",
   "metadata": {},
   "source": [
    "Many fundamental features of authorial style can be implemented as simple functions over counts of words and sentences.  In this homework, you'll be implementing these functions to measure stylistic properties of a text.\n",
    "\n",
    "For a detailed history of many of these techniques, see Grieve 2005, \"[Quantiative Authorship Attribution: A History and Evaluation of Techniques](https://summit.sfu.ca/_flysystem/fedora/sfu_migrate/8840/etd1721.pdf)\" (note this was a master's thesis).\n",
    "\n",
    "Before working on this notebook, install seaborn:\n",
    "\n",
    "```conda install seaborn```\n",
    "\n",
    "This homework has 3 required questions (Q1-3) and one optional \"check-plus\" question (Q4) at the end.\n"
   ]
  },
  {
   "cell_type": "markdown",
   "id": "11ef7371",
   "metadata": {},
   "source": [
    "First, let's read in some works of fiction by three different authors: [Henry James](https://en.wikipedia.org/wiki/Henry_James), [Jane Austen](https://en.wikipedia.org/wiki/Jane_Austen) and [Horatio Alger](https://en.wikipedia.org/wiki/Horatio_Alger)."
   ]
  },
  {
   "cell_type": "code",
   "execution_count": 1,
   "id": "c7a82528",
   "metadata": {},
   "outputs": [],
   "source": [
    "james=[]\n",
    "for filename in [\"../data/stylometry/208_daisy_miller_a_study.txt\", \"../data/stylometry/432_the_ambassadors.txt\", \"../data/stylometry/209_the_turn_of_the_screw.txt\"]:\n",
    "    with open(filename, encoding='utf-8') as file:\n",
    "        james.append(file.read())\n",
    "\n",
    "austen=[]\n",
    "for filename in [\"../data/stylometry/158_emma.txt\", \"../data/stylometry/105_persuasion.txt\", \"../data/stylometry/1342_pride_and_prejudice.txt\"]:\n",
    "    with open(filename, encoding='utf-8') as file:\n",
    "        austen.append(file.read())\n",
    "\n",
    "        \n",
    "alger=[]\n",
    "for filename in [\"../data/stylometry/18581_adrift_in_new_york_tom_and_florence_braving_the_world.txt\", \"../data/stylometry/5348_ragged_dick_or_street_life_in_new_york_with_the_bootblacks.txt\", \"../data/stylometry/21632_fame.txt\"]:\n",
    "    with open(filename, encoding='utf-8') as file:\n",
    "        alger.append(file.read())\n"
   ]
  },
  {
   "cell_type": "code",
   "execution_count": 2,
   "id": "de53c7aa",
   "metadata": {},
   "outputs": [],
   "source": [
    "import nltk\n",
    "from nltk.tokenize import word_tokenize, sent_tokenize\n",
    "import numpy as np"
   ]
  },
  {
   "cell_type": "markdown",
   "id": "722e98e4",
   "metadata": {},
   "source": [
    "**Q1.** First, implement the average sentence length.  Write a function that takes a single text as input and returns the average length of sentences within it using `nltk.tokenize.word_tokenize` and `nltk.tokenize.sent_tokenize`.  The output should be a single real number.  "
   ]
  },
  {
   "cell_type": "code",
   "execution_count": 3,
   "id": "c8b2ae89",
   "metadata": {},
   "outputs": [],
   "source": [
    "def get_avg_sentence_length(text):\n",
    "    word_tokens = word_tokenize(text)\n",
    "    sent_tokens = sent_tokenize(text)\n",
    "    return len(word_tokens)/len(sent_tokens)"
   ]
  },
  {
   "cell_type": "markdown",
   "id": "42afba8a",
   "metadata": {},
   "source": [
    "Test that function on texts by James, Austen and Alger (just execute this cell):"
   ]
  },
  {
   "cell_type": "code",
   "execution_count": 4,
   "id": "faa788b9",
   "metadata": {},
   "outputs": [
    {
     "name": "stdout",
     "output_type": "stream",
     "text": [
      "James avg sentences: 23.482\n",
      "James avg sentences: 21.118\n",
      "James avg sentences: 30.821\n",
      "Austen avg sentences: 32.223\n",
      "Austen avg sentences: 26.785\n",
      "Austen avg sentences: 30.496\n",
      "Alger avg sentences: 13.628\n",
      "Alger avg sentences: 16.105\n",
      "Alger avg sentences: 14.881\n"
     ]
    }
   ],
   "source": [
    "for book in james:\n",
    "    avg_sents=get_avg_sentence_length(book)\n",
    "    print(\"James avg sentences: %.3f\" % avg_sents)\n",
    "\n",
    "for book in austen:\n",
    "    avg_sents=get_avg_sentence_length(book)\n",
    "    print(\"Austen avg sentences: %.3f\" % avg_sents)\n",
    "\n",
    "for book in alger:\n",
    "    avg_sents=get_avg_sentence_length(book)\n",
    "    print(\"Alger avg sentences: %.3f\" % avg_sents)"
   ]
  },
  {
   "cell_type": "markdown",
   "id": "b6821eff",
   "metadata": {},
   "source": [
    "**Q2**: Use the `nltk.word_tokenize` method to implement the type-token ratio (a measure of vocabulary diversity):\n",
    "\n",
    "$$\n",
    "\\textrm{TTR} = {\\textrm{number of distinct word types} \\over \\textrm{number of word tokens}}\n",
    "$$\n",
    "\n",
    "\n",
    "TTR is dependent on text length (intuitively, the longer a text is, the greater chance you have of a word type repeating), so this number is only comparable between documents of identical lengths.  Calculate this measure for the first 500 words of you document and report the results here. Exclude tokens that are exclusively punctuation from all counts, and calculate this measure over the lowercased version of that text.  (You can find puncutation with `string.punctuation`.)  Your `type_token_ratio` function should take a single input as argument (a text at least 500 tokens long) and output a single real number (the TTR for that text).\n"
   ]
  },
  {
   "cell_type": "code",
   "execution_count": 5,
   "id": "051358e7",
   "metadata": {},
   "outputs": [],
   "source": [
    "def type_token_ratio(text, num_words=500):\n",
    "    \n",
    "    import string\n",
    "    from nltk.probability import FreqDist\n",
    "    \n",
    "    word_tokens = word_tokenize(text.lower())\n",
    "    word_tokens_no_punc = [i for i in word_tokens if i not in string.punctuation]\n",
    "    word_tokens_partial = word_tokens_no_punc[0:num_words]\n",
    "    count_distinct = len(FreqDist(word_tokens_partial).keys())\n",
    "    \n",
    "    return count_distinct / num_words"
   ]
  },
  {
   "cell_type": "markdown",
   "id": "d531fc14",
   "metadata": {},
   "source": [
    "Again, test that function on texts by James, Austen and Alger (just execute this cell):"
   ]
  },
  {
   "cell_type": "code",
   "execution_count": 6,
   "id": "147b208d",
   "metadata": {},
   "outputs": [
    {
     "name": "stdout",
     "output_type": "stream",
     "text": [
      "James avg: 0.510\n",
      "James avg: 0.522\n",
      "James avg: 0.474\n",
      "Austen avg: 0.506\n",
      "Austen avg: 0.542\n",
      "Austen avg: 0.424\n",
      "Alger avg: 0.490\n",
      "Alger avg: 0.462\n",
      "Alger avg: 0.524\n"
     ]
    }
   ],
   "source": [
    "for book in james:\n",
    "    ttr=type_token_ratio(book)\n",
    "    print(\"James avg: %.3f\" % ttr)\n",
    "\n",
    "for book in austen:\n",
    "    ttr=type_token_ratio(book)\n",
    "    print(\"Austen avg: %.3f\" % ttr)\n",
    "\n",
    "for book in alger:\n",
    "    ttr=type_token_ratio(book)\n",
    "    print(\"Alger avg: %.3f\" % ttr)\n",
    "    "
   ]
  },
  {
   "cell_type": "markdown",
   "id": "837ace5a",
   "metadata": {},
   "source": [
    "**Q3.** Finally, count up the token frequency of function words (these are determiners like \"the\", prepositions like \"in\" and conjunctions like \"and\" and \"because\").  Let's approximate \"function words\" by counting the token frequency of `nltk.corpus.stopwords`.  Here's that list:"
   ]
  },
  {
   "cell_type": "code",
   "execution_count": 7,
   "id": "958fe012",
   "metadata": {},
   "outputs": [
    {
     "name": "stdout",
     "output_type": "stream",
     "text": [
      "179 {'isn', 'off', \"isn't\", 'i', 'when', 'mightn', 'no', 'aren', 'needn', 'then', \"haven't\", \"mustn't\", 'it', 'where', 'or', 'once', 'wasn', 'ourselves', 'he', \"didn't\", 'himself', 'been', 'we', \"she's\", 'while', 'up', 'ain', \"couldn't\", 'y', 'the', 'how', 'into', 'ma', 'below', \"doesn't\", 'm', 'that', 'both', 'doing', 'weren', 'what', 'by', 'do', 'to', 'yourselves', 'themselves', 'have', 'so', 'an', 'such', 'shan', 'this', 'can', 'nor', 'until', 'being', 'him', 'herself', 'of', 'down', 'his', \"shan't\", 'if', 'further', \"it's\", 'too', 'and', 'd', \"won't\", 'were', 'very', 'at', 'having', 'some', 'them', 'all', \"hadn't\", 'why', 'same', 'her', 'those', 'won', 'just', \"you'll\", 'now', 'not', 'hasn', 'my', 'which', 'your', 'who', 'from', 'own', \"aren't\", \"needn't\", 'didn', 'against', 'only', 'whom', 'its', 'don', \"that'll\", 'shouldn', 'does', 'through', 'o', 'during', 'hadn', 'hers', 'she', 'other', 'these', 'a', 'doesn', 'about', 'are', 'before', \"should've\", 'yourself', 'any', 'be', 'wouldn', 'few', 'than', 'because', 'more', 'for', 'their', 'you', 'ours', \"mightn't\", 'itself', 'mustn', 'will', 'haven', 'again', \"wasn't\", 'over', 'after', \"you're\", \"you'd\", 'above', 'but', 'our', 'with', 'between', 'out', 's', 'each', 'was', 'on', 'here', 'theirs', 've', \"weren't\", 'there', 'had', 'yours', \"hasn't\", 'couldn', 'll', \"shouldn't\", \"you've\", 'did', 'in', 'as', 'should', 'me', 're', \"don't\", 'myself', \"wouldn't\", 'under', 'they', 't', 'is', 'has', 'most', 'am'}\n"
     ]
    }
   ],
   "source": [
    "from nltk.corpus import stopwords\n",
    "nltk_stopwords = set(stopwords.words('english'))\n",
    "print(len(nltk_stopwords), nltk_stopwords)"
   ]
  },
  {
   "cell_type": "markdown",
   "id": "1c9a9d27",
   "metadata": {},
   "source": [
    "Write a function `count_stopword_freqs` that takes a single text as input and returns a dictionary containing frequency of each of these terms within it -- e.g.:\n",
    "\n",
    "{\"wouldn\": 0.00003, ..., \"are\": 0.0004}\n",
    "\n",
    "Frequency is simply the count of that term in the text divided by the count of all tokens in the text."
   ]
  },
  {
   "cell_type": "code",
   "execution_count": 8,
   "id": "e67118ec",
   "metadata": {},
   "outputs": [],
   "source": [
    "def count_stopwords_freqs(book):\n",
    "    \n",
    "    from nltk.probability import FreqDist\n",
    "    \n",
    "    tokens = word_tokenize(book.lower())\n",
    "    book_len = len(tokens)\n",
    "    \n",
    "    freq_dict = FreqDist(tokens)\n",
    "    stopword_freq = dict()\n",
    "    for stopword in nltk_stopwords:\n",
    "        stopword_freq[stopword] = freq_dict[stopword]/book_len\n",
    "    \n",
    "    return stopword_freq"
   ]
  },
  {
   "cell_type": "markdown",
   "id": "ca6ba2a0",
   "metadata": {},
   "source": [
    "Again, test that function on texts by James, Austen and Alger (just execute this cell):"
   ]
  },
  {
   "cell_type": "code",
   "execution_count": 9,
   "id": "f5f458b8",
   "metadata": {},
   "outputs": [
    {
     "name": "stdout",
     "output_type": "stream",
     "text": [
      "James 'because': 0.00026\n",
      "James 'because': 0.00048\n",
      "James 'because': 0.00025\n",
      "Austen 'because': 0.00028\n",
      "Austen 'because': 0.00027\n",
      "Austen 'because': 0.00044\n",
      "Alger 'because': 0.00037\n",
      "Alger 'because': 0.00034\n",
      "Alger 'because': 0.00052\n"
     ]
    }
   ],
   "source": [
    "for book in james:\n",
    "    freqs=count_stopwords_freqs(book)\n",
    "    print(\"James 'because': %.5f\" % freqs[\"because\"])\n",
    "\n",
    "for book in austen:\n",
    "    freqs=count_stopwords_freqs(book)\n",
    "    print(\"Austen 'because': %.5f\" % freqs[\"because\"])\n",
    "\n",
    "for book in alger:\n",
    "    freqs=count_stopwords_freqs(book)\n",
    "    print(\"Alger 'because': %.5f\" % freqs[\"because\"])"
   ]
  },
  {
   "cell_type": "markdown",
   "id": "2ae23125",
   "metadata": {},
   "source": [
    "The functions you wrote now give you a way represent a text as a vector of stylistic features.  Let's see how we can use that to compare the similarity of styles between the three authors above."
   ]
  },
  {
   "cell_type": "code",
   "execution_count": 10,
   "id": "d7989f3c",
   "metadata": {},
   "outputs": [],
   "source": [
    "def featurize_style(text):\n",
    "    vec=[]\n",
    "    vec.append(get_avg_sentence_length(text))\n",
    "    vec.append(type_token_ratio(text))\n",
    "    stopword_freq=count_stopwords_freqs(text)\n",
    "    for stop in set(stopwords.words('english')):\n",
    "        if stop in stopword_freq:\n",
    "            vec.append(stopword_freq[stop])\n",
    "        else:\n",
    "            vec.append(0)\n",
    "    return vec"
   ]
  },
  {
   "cell_type": "code",
   "execution_count": 11,
   "id": "a3737940",
   "metadata": {},
   "outputs": [],
   "source": [
    "all_vecs=[]\n",
    "for book in james:\n",
    "    all_vecs.append(featurize_style(book))\n",
    "\n",
    "for book in austen:\n",
    "    all_vecs.append(featurize_style(book))\n",
    "\n",
    "for book in alger:\n",
    "    all_vecs.append(featurize_style(book))\n"
   ]
  },
  {
   "cell_type": "markdown",
   "id": "32dd59b4",
   "metadata": {},
   "source": [
    "We're going to compare the style vector for each book with each other, comparing them via cosine similarity. To give equal weight to each style dimension, we'll normalize each feature to its z score (with respect to the value of that feature across all observations)."
   ]
  },
  {
   "cell_type": "code",
   "execution_count": 12,
   "id": "706876a1",
   "metadata": {},
   "outputs": [],
   "source": [
    "from sklearn.preprocessing import StandardScaler\n",
    "scaler = StandardScaler()\n",
    "scaler.fit(all_vecs)\n",
    "all_vecs=scaler.transform(all_vecs)"
   ]
  },
  {
   "cell_type": "code",
   "execution_count": 13,
   "id": "13ac684c",
   "metadata": {},
   "outputs": [],
   "source": [
    "from sklearn.metrics.pairwise import cosine_similarity"
   ]
  },
  {
   "cell_type": "code",
   "execution_count": 14,
   "id": "1241835a",
   "metadata": {},
   "outputs": [],
   "source": [
    "sims=cosine_similarity(all_vecs, all_vecs)"
   ]
  },
  {
   "cell_type": "markdown",
   "id": "db410987",
   "metadata": {},
   "source": [
    "Now let's visualize those similarites as a heatmap."
   ]
  },
  {
   "cell_type": "code",
   "execution_count": 15,
   "id": "78294f22",
   "metadata": {},
   "outputs": [],
   "source": [
    "import seaborn as sns\n",
    "import pandas as pd"
   ]
  },
  {
   "cell_type": "code",
   "execution_count": 16,
   "id": "8ac222da",
   "metadata": {},
   "outputs": [],
   "source": [
    "names=[\"james1\", \"james2\", \"james3\", \"austen1\", \"austen2\", \"austen3\", \"alger1\", \"alger2\", \"alger3\"]\n",
    "df = pd.DataFrame(sims, columns=names)"
   ]
  },
  {
   "cell_type": "code",
   "execution_count": 17,
   "id": "d57bb7f3",
   "metadata": {},
   "outputs": [
    {
     "data": {
      "image/png": "[encoded data removed]",
      "text/plain": [
       "<Figure size 640x480 with 2 Axes>"
      ]
     },
     "metadata": {},
     "output_type": "display_data"
    }
   ],
   "source": [
    "p1 = sns.heatmap(df, cmap=\"Greens\", xticklabels=names, yticklabels=names)"
   ]
  },
  {
   "cell_type": "markdown",
   "id": "20802c54",
   "metadata": {},
   "source": [
    "Q4 **(check-plus)**: From the Grieve 2005, \"[Quantiative Authorship Attribution: A History and Evaluation of Techniques](https://summit.sfu.ca/_flysystem/fedora/sfu_migrate/8840/etd1721.pdf)\" paper referenced above, pick one other stylistic feature and implement it.  As with the other stylistic measures, run it on the 9 books above; does it differentiate those authors?"
   ]
  },
  {
   "cell_type": "markdown",
   "id": "849292bd",
   "metadata": {},
   "source": [
    "Q4 answer: \\\n",
    "Yes. I tried 2-gram (or bigram) method with the top 155 common 2-grams in the given 9 books. The heatmap plot seems to work just as well as the heatmap above. It is obvious to tell the books that belong to Austen and Alger, but not as obivious to tell the books of James."
   ]
  },
  {
   "cell_type": "code",
   "execution_count": 18,
   "id": "23668e1a",
   "metadata": {},
   "outputs": [],
   "source": [
    "from nltk import bigrams\n",
    "from nltk.probability import FreqDist\n",
    "from nltk import bigrams\n",
    "import numpy as np\n",
    "\n",
    "# list(bigrams(james[0]))"
   ]
  },
  {
   "cell_type": "code",
   "execution_count": 19,
   "id": "55338294",
   "metadata": {},
   "outputs": [],
   "source": [
    "def find_top_keys(book):\n",
    "    \n",
    "    tokens = list(bigrams(book.lower()))\n",
    "    \n",
    "    freq_dict = FreqDist(tokens)\n",
    "    bigram_freq = dict()\n",
    "    \n",
    "    sorted_items = sorted(freq_dict.items(), key=lambda item: item[1], reverse=True)\n",
    "    top_keys = [item[0] for item in sorted_items[:200]]\n",
    "    \n",
    "    return top_keys"
   ]
  },
  {
   "cell_type": "code",
   "execution_count": 20,
   "id": "c88a15ca",
   "metadata": {},
   "outputs": [
    {
     "name": "stdout",
     "output_type": "stream",
     "text": [
      "155 [('w', 'o'), ('e', 'd'), ('i', 'l'), ('i', 'c'), ('m', 'e'), ('o', 'f'), ('i', 'n'), ('c', 'a'), ('i', 'r'), ('h', 'a'), ('t', 'a'), ('i', ' '), (' ', 'h'), ('m', 'o'), ('e', 'v'), ('r', 'a'), ('p', 'e'), ('h', 'o'), ('e', ','), ('y', ' '), ('o', 'm'), ('r', 'o'), ('p', 'o'), ('s', 't'), (' ', 'g'), ('d', 'o'), ('l', 'a'), ('s', 'u'), ('n', 'd'), ('u', 't'), ('i', 'd'), ('a', 's'), ('a', 'y'), ('n', 'g'), (' ', 'i'), (' ', 'e'), ('o', 'w'), ('o', 't'), ('o', 'u'), ('n', 'c'), ('m', 'a'), (' ', 's'), ('u', 'l'), ('u', 'n'), ('s', 'i'), ('s', ' '), ('n', ' '), ('u', 'r'), ('c', 'h'), ('e', '\\n'), ('f', ' '), ('t', 'h'), (' ', 'p'), ('o', 'n'), ('l', 'l'), ('p', 'a'), ('a', 'b'), ('o', 'r'), ('e', 'e'), ('\\n', 't'), ('o', ' '), ('s', 'h'), ('l', ' '), ('e', 's'), ('w', 'i'), ('w', ' '), ('r', 't'), (' ', 'm'), ('k', 'e'), ('w', 'h'), ('c', 'e'), ('h', 'i'), ('t', 'i'), ('h', ' '), ('t', ' '), ('a', 't'), ('b', 'e'), ('e', 'n'), (' ', 'y'), ('r', 'i'), ('l', 'd'), ('r', ' '), ('p', 'r'), (',', ' '), ('s', 'e'), ('n', 'e'), ('i', 'e'), (' ', 'o'), ('d', 'i'), ('s', ','), ('d', ' '), ('s', 's'), ('i', 's'), ('e', 'm'), ('a', 'l'), (' ', 'f'), ('a', 'c'), ('a', 'n'), ('e', 'a'), ('n', 'o'), ('i', 'o'), ('e', '.'), ('a', 'r'), ('g', ' '), ('l', 'i'), ('a', ' '), ('w', 'e'), (' ', 'b'), (' ', 'n'), ('e', 't'), ('v', 'e'), ('y', 'o'), ('m', 'i'), ('g', 'h'), ('m', ' '), (' ', 'a'), ('h', 'e'), ('t', 'e'), ('t', ','), ('e', 'l'), ('e', 'c'), ('i', 'm'), ('a', 'd'), ('c', 'o'), ('r', 'e'), ('e', 'r'), ('s', 'a'), ('e', ' '), ('t', 'o'), ('r', 's'), (' ', 'w'), ('d', 'e'), (' ', 't'), (' ', 'u'), ('d', ','), (' ', 'd'), ('u', 's'), ('a', 'v'), ('s', 'o'), ('b', 'u'), ('a', 'i'), ('f', 'o'), ('n', 't'), ('g', 'e'), ('i', 't'), ('l', 'e'), ('w', 'a'), ('.', ' '), (' ', 'l'), (' ', 'c'), ('l', 'y'), (' ', 'r'), ('o', 'o'), ('\\n', '\\n'), ('l', 'o')]\n"
     ]
    }
   ],
   "source": [
    "common_2_grams = list(set(find_top_keys(james[0])) & set(find_top_keys(james[1])) & set(find_top_keys(james[2])) & \n",
    "                      set(find_top_keys(austen[0])) & set(find_top_keys(austen[1])) & set(find_top_keys(austen[2])) & \n",
    "                      set(find_top_keys(alger[0])) & set(find_top_keys(alger[1])) & set(find_top_keys(alger[2])))\n",
    "print(len(common_2_grams), common_2_grams)"
   ]
  },
  {
   "cell_type": "code",
   "execution_count": 21,
   "id": "2c34d032",
   "metadata": {},
   "outputs": [],
   "source": [
    "def count_2_gram_freqs(book):\n",
    "    \n",
    "    tokens = list(bigrams(book.lower()))\n",
    "    book_len = len(tokens)\n",
    "    \n",
    "    freq_dict = FreqDist(tokens)\n",
    "    bigram_freq = dict()\n",
    "    \n",
    "    for bigram in common_2_grams:\n",
    "        bigram_freq[bigram] = freq_dict[bigram]/book_len\n",
    "    \n",
    "    return bigram_freq"
   ]
  },
  {
   "cell_type": "code",
   "execution_count": 22,
   "id": "96a14653",
   "metadata": {
    "scrolled": true
   },
   "outputs": [
    {
     "name": "stdout",
     "output_type": "stream",
     "text": [
      "James '('h', 'e')': 0.02384\n",
      "James '('h', 'e')': 0.02464\n",
      "James '('h', 'e')': 0.02150\n",
      "Austen '('h', 'e')': 0.01995\n",
      "Austen '('h', 'e')': 0.02191\n",
      "Austen '('h', 'e')': 0.02165\n",
      "Alger '('h', 'e')': 0.01828\n",
      "Alger '('h', 'e')': 0.01809\n",
      "Alger '('h', 'e')': 0.01653\n"
     ]
    }
   ],
   "source": [
    "for book in james:\n",
    "    freqs=count_2_gram_freqs(book)\n",
    "    print(\"James '('h', 'e')': %.5f\" % freqs[('h', 'e')])\n",
    "\n",
    "for book in austen:\n",
    "    freqs=count_2_gram_freqs(book)\n",
    "    print(\"Austen '('h', 'e')': %.5f\" % freqs[('h', 'e')])\n",
    "\n",
    "for book in alger:\n",
    "    freqs=count_2_gram_freqs(book)\n",
    "    print(\"Alger '('h', 'e')': %.5f\" % freqs[('h', 'e')])"
   ]
  },
  {
   "cell_type": "code",
   "execution_count": null,
   "id": "b5a70e86",
   "metadata": {},
   "outputs": [],
   "source": []
  },
  {
   "cell_type": "markdown",
   "id": "217c84ba",
   "metadata": {},
   "source": [
    "The functions you wrote now give you a way represent a text as a vector of stylistic features.  Let's see how we can use that to compare the similarity of styles between the three authors above."
   ]
  },
  {
   "cell_type": "code",
   "execution_count": 23,
   "id": "433853a2",
   "metadata": {},
   "outputs": [],
   "source": [
    "def featurize_style(text):\n",
    "    vec=[]\n",
    "    vec.append(get_avg_sentence_length(text))\n",
    "    vec.append(type_token_ratio(text))\n",
    "    bigram_freq=count_2_gram_freqs(text)\n",
    "    for bigram in common_2_grams:\n",
    "        if bigram in bigram_freq:\n",
    "            vec.append(bigram_freq[bigram])\n",
    "        else:\n",
    "            vec.append(0)\n",
    "    return vec"
   ]
  },
  {
   "cell_type": "code",
   "execution_count": 24,
   "id": "a7d4dd3c",
   "metadata": {},
   "outputs": [],
   "source": [
    "all_vecs=[]\n",
    "for book in james:\n",
    "    all_vecs.append(featurize_style(book))\n",
    "\n",
    "for book in austen:\n",
    "    all_vecs.append(featurize_style(book))\n",
    "\n",
    "for book in alger:\n",
    "    all_vecs.append(featurize_style(book))\n"
   ]
  },
  {
   "cell_type": "markdown",
   "id": "31b159df",
   "metadata": {},
   "source": [
    "We're going to compare the style vector for each book with each other, comparing them via cosine similarity. To give equal weight to each style dimension, we'll normalize each feature to its z score (with respect to the value of that feature across all observations)."
   ]
  },
  {
   "cell_type": "code",
   "execution_count": 25,
   "id": "ee1ed981",
   "metadata": {},
   "outputs": [],
   "source": [
    "from sklearn.preprocessing import StandardScaler\n",
    "scaler = StandardScaler()\n",
    "scaler.fit(all_vecs)\n",
    "all_vecs=scaler.transform(all_vecs)"
   ]
  },
  {
   "cell_type": "code",
   "execution_count": 26,
   "id": "f4e9687a",
   "metadata": {},
   "outputs": [],
   "source": [
    "from sklearn.metrics.pairwise import cosine_similarity"
   ]
  },
  {
   "cell_type": "code",
   "execution_count": 27,
   "id": "265831f5",
   "metadata": {},
   "outputs": [],
   "source": [
    "sims=cosine_similarity(all_vecs, all_vecs)"
   ]
  },
  {
   "cell_type": "markdown",
   "id": "6a286061",
   "metadata": {},
   "source": [
    "Now let's visualize those similarites as a heatmap."
   ]
  },
  {
   "cell_type": "code",
   "execution_count": 28,
   "id": "74960c4d",
   "metadata": {},
   "outputs": [],
   "source": [
    "import seaborn as sns\n",
    "import pandas as pd"
   ]
  },
  {
   "cell_type": "code",
   "execution_count": 29,
   "id": "49cb5429",
   "metadata": {},
   "outputs": [],
   "source": [
    "names=[\"james1\", \"james2\", \"james3\", \"austen1\", \"austen2\", \"austen3\", \"alger1\", \"alger2\", \"alger3\"]\n",
    "df = pd.DataFrame(sims, columns=names)"
   ]
  },
  {
   "cell_type": "code",
   "execution_count": 30,
   "id": "87a2740e",
   "metadata": {},
   "outputs": [
    {
     "data": {
      "image/png": "[encoded data removed]",
      "text/plain": [
       "<Figure size 640x480 with 2 Axes>"
      ]
     },
     "metadata": {},
     "output_type": "display_data"
    }
   ],
   "source": [
    "p1 = sns.heatmap(df, cmap=\"Greens\", xticklabels=names, yticklabels=names)"
   ]
  },
  {
   "cell_type": "code",
   "execution_count": null,
   "id": "ef8fc22b",
   "metadata": {},
   "outputs": [],
   "source": []
  }
 ],
 "metadata": {
  "kernelspec": {
   "display_name": "Python 3 (ipykernel)",
   "language": "python",
   "name": "python3"
  },
  "language_info": {
   "codemirror_mode": {
    "name": "ipython",
    "version": 3
   },
   "file_extension": ".py",
   "mimetype": "text/x-python",
   "name": "python",
   "nbconvert_exporter": "python",
   "pygments_lexer": "ipython3",
   "version": "3.10.9"
  }
 },
 "nbformat": 4,
 "nbformat_minor": 5
}
