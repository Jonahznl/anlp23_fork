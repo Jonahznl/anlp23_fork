{
 "cells": [
  {
   "cell_type": "markdown",
   "id": "73423b4a",
   "metadata": {},
   "source": [
    "Many fundamental features of authorial style can be implemented as simple functions over counts of words and sentences.  In this homework, you'll be using implementing these functions to measure stylistic properties of a text.\n",
    "\n",
    "For a detailed history of many of these techniques, see Grieve 2005, \"[Quantiative Authorship Attribution: A History and Evaluation of Techniques](https://summit.sfu.ca/_flysystem/fedora/sfu_migrate/8840/etd1721.pdf)\" (note this was a master's thesis).\n",
    "\n",
    "Before working on this notebook, install seaborn:\n",
    "\n",
    "```conda install seaborn```\n",
    "\n",
    "This homework has 3 required questions (Q1-3) and one optional \"check-plus\" question (Q4) at the end.\n"
   ]
  },
  {
   "cell_type": "markdown",
   "id": "11ef7371",
   "metadata": {},
   "source": [
    "First, let's read in some works of fiction by three different authors: [Henry James](https://en.wikipedia.org/wiki/Henry_James), [Jane Austen](https://en.wikipedia.org/wiki/Jane_Austen) and [Horatio Alger](https://en.wikipedia.org/wiki/Horatio_Alger)."
   ]
  },
  {
   "cell_type": "code",
   "execution_count": 1,
   "id": "c7a82528",
   "metadata": {},
   "outputs": [
    {
     "ename": "FileNotFoundError",
     "evalue": "[Errno 2] No such file or directory: '../data/stylometry/208_daisy_miller_a_study.txt'",
     "output_type": "error",
     "traceback": [
      "\u001b[0;31m---------------------------------------------------------------------------\u001b[0m",
      "\u001b[0;31mFileNotFoundError\u001b[0m                         Traceback (most recent call last)",
      "Cell \u001b[0;32mIn[1], line 3\u001b[0m\n\u001b[1;32m      1\u001b[0m james\u001b[38;5;241m=\u001b[39m[]\n\u001b[1;32m      2\u001b[0m \u001b[38;5;28;01mfor\u001b[39;00m filename \u001b[38;5;129;01min\u001b[39;00m [\u001b[38;5;124m\"\u001b[39m\u001b[38;5;124m../data/stylometry/208_daisy_miller_a_study.txt\u001b[39m\u001b[38;5;124m\"\u001b[39m, \u001b[38;5;124m\"\u001b[39m\u001b[38;5;124m../data/stylometry/432_the_ambassadors.txt\u001b[39m\u001b[38;5;124m\"\u001b[39m, \u001b[38;5;124m\"\u001b[39m\u001b[38;5;124m../data/stylometry/209_the_turn_of_the_screw.txt\u001b[39m\u001b[38;5;124m\"\u001b[39m]:\n\u001b[0;32m----> 3\u001b[0m     \u001b[38;5;28;01mwith\u001b[39;00m \u001b[38;5;28;43mopen\u001b[39;49m\u001b[43m(\u001b[49m\u001b[43mfilename\u001b[49m\u001b[43m)\u001b[49m \u001b[38;5;28;01mas\u001b[39;00m file:\n\u001b[1;32m      4\u001b[0m         james\u001b[38;5;241m.\u001b[39mappend(file\u001b[38;5;241m.\u001b[39mread())\n\u001b[1;32m      6\u001b[0m austen\u001b[38;5;241m=\u001b[39m[]\n",
      "File \u001b[0;32m~/miniconda3/lib/python3.10/site-packages/IPython/core/interactiveshell.py:284\u001b[0m, in \u001b[0;36m_modified_open\u001b[0;34m(file, *args, **kwargs)\u001b[0m\n\u001b[1;32m    277\u001b[0m \u001b[38;5;28;01mif\u001b[39;00m file \u001b[38;5;129;01min\u001b[39;00m {\u001b[38;5;241m0\u001b[39m, \u001b[38;5;241m1\u001b[39m, \u001b[38;5;241m2\u001b[39m}:\n\u001b[1;32m    278\u001b[0m     \u001b[38;5;28;01mraise\u001b[39;00m \u001b[38;5;167;01mValueError\u001b[39;00m(\n\u001b[1;32m    279\u001b[0m         \u001b[38;5;124mf\u001b[39m\u001b[38;5;124m\"\u001b[39m\u001b[38;5;124mIPython won\u001b[39m\u001b[38;5;124m'\u001b[39m\u001b[38;5;124mt let you open fd=\u001b[39m\u001b[38;5;132;01m{\u001b[39;00mfile\u001b[38;5;132;01m}\u001b[39;00m\u001b[38;5;124m by default \u001b[39m\u001b[38;5;124m\"\u001b[39m\n\u001b[1;32m    280\u001b[0m         \u001b[38;5;124m\"\u001b[39m\u001b[38;5;124mas it is likely to crash IPython. If you know what you are doing, \u001b[39m\u001b[38;5;124m\"\u001b[39m\n\u001b[1;32m    281\u001b[0m         \u001b[38;5;124m\"\u001b[39m\u001b[38;5;124myou can use builtins\u001b[39m\u001b[38;5;124m'\u001b[39m\u001b[38;5;124m open.\u001b[39m\u001b[38;5;124m\"\u001b[39m\n\u001b[1;32m    282\u001b[0m     )\n\u001b[0;32m--> 284\u001b[0m \u001b[38;5;28;01mreturn\u001b[39;00m \u001b[43mio_open\u001b[49m\u001b[43m(\u001b[49m\u001b[43mfile\u001b[49m\u001b[43m,\u001b[49m\u001b[43m \u001b[49m\u001b[38;5;241;43m*\u001b[39;49m\u001b[43margs\u001b[49m\u001b[43m,\u001b[49m\u001b[43m \u001b[49m\u001b[38;5;241;43m*\u001b[39;49m\u001b[38;5;241;43m*\u001b[39;49m\u001b[43mkwargs\u001b[49m\u001b[43m)\u001b[49m\n",
      "\u001b[0;31mFileNotFoundError\u001b[0m: [Errno 2] No such file or directory: '../data/stylometry/208_daisy_miller_a_study.txt'"
     ]
    }
   ],
   "source": [
    "james=[]\n",
    "for filename in [\"../data/stylometry/208_daisy_miller_a_study.txt\", \"../data/stylometry/432_the_ambassadors.txt\", \"../data/stylometry/209_the_turn_of_the_screw.txt\"]:\n",
    "    with open(filename) as file:\n",
    "        james.append(file.read())\n",
    "\n",
    "austen=[]\n",
    "for filename in [\"../data/stylometry/158_emma.txt\", \"../data/stylometry/105_persuasion.txt\", \"../data/stylometry/1342_pride_and_prejudice.txt\"]:\n",
    "    with open(filename) as file:\n",
    "        austen.append(file.read())\n",
    "\n",
    "        \n",
    "alger=[]\n",
    "for filename in [\"../data/stylometry/18581_adrift_in_new_york_tom_and_florence_braving_the_world.txt\", \"../data/stylometry/5348_ragged_dick_or_street_life_in_new_york_with_the_bootblacks.txt\", \"../data/stylometry/21632_fame.txt\"]:\n",
    "    with open(filename) as file:\n",
    "        alger.append(file.read())\n"
   ]
  },
  {
   "cell_type": "code",
   "execution_count": 2,
   "id": "de53c7aa",
   "metadata": {},
   "outputs": [],
   "source": [
    "import nltk\n",
    "from nltk.tokenize import word_tokenize, sent_tokenize\n",
    "import numpy as np"
   ]
  },
  {
   "cell_type": "markdown",
   "id": "722e98e4",
   "metadata": {},
   "source": [
    "**Q1.** First, implement the average sentence length.  Write a function that takes a single text as input and returns the average length of sentences within it using `nltk.tokenize.word_tokenize` and `nltk.tokenize.sent_tokenize`.  The output should be a single real number.  "
   ]
  },
  {
   "cell_type": "code",
   "execution_count": 55,
   "id": "c8b2ae89",
   "metadata": {},
   "outputs": [],
   "source": [
    "def get_avg_sentence_length(text):\n",
    "    sent_lengths=[]\n",
    "    sentences=sent_tokenize(text)\n",
    "    for sentence in sentences:\n",
    "        tokens=word_tokenize(sentence)\n",
    "        sent_lengths.append(len(tokens))\n",
    "    return np.mean(np.array(sent_lengths))"
   ]
  },
  {
   "cell_type": "markdown",
   "id": "42afba8a",
   "metadata": {},
   "source": [
    "Test that function on texts by James, Austen and Alger (just execute this cell):"
   ]
  },
  {
   "cell_type": "code",
   "execution_count": 56,
   "id": "faa788b9",
   "metadata": {},
   "outputs": [
    {
     "name": "stdout",
     "output_type": "stream",
     "text": [
      "James avg sentences: 23.482\n",
      "James avg sentences: 21.118\n",
      "James avg sentences: 30.821\n",
      "Austen avg sentences: 32.223\n",
      "Austen avg sentences: 26.785\n",
      "Austen avg sentences: 30.496\n",
      "Alger avg sentences: 13.628\n",
      "Alger avg sentences: 15.989\n",
      "Alger avg sentences: 14.881\n"
     ]
    }
   ],
   "source": [
    "for book in james:\n",
    "    avg_sents=get_avg_sentence_length(book)\n",
    "    print(\"James avg sentences: %.3f\" % avg_sents)\n",
    "\n",
    "for book in austen:\n",
    "    avg_sents=get_avg_sentence_length(book)\n",
    "    print(\"Austen avg sentences: %.3f\" % avg_sents)\n",
    "\n",
    "for book in alger:\n",
    "    avg_sents=get_avg_sentence_length(book)\n",
    "    print(\"Alger avg sentences: %.3f\" % avg_sents)"
   ]
  },
  {
   "cell_type": "markdown",
   "id": "b6821eff",
   "metadata": {},
   "source": [
    "**Q2**: Use the `nltk.word_tokenize` method to implement the type-token ratio (a measure of vocabulary diversity):\n",
    "\n",
    "$$\n",
    "\\textrm{TTR} = {\\textrm{number of distinct word types} \\over \\textrm{number of word tokens}}\n",
    "$$\n",
    "\n",
    "\n",
    "TTR is dependent on text length (intuitively, the longer a text is, the greater chance you have of a word type repeating), so this number is only comparable between documents of identical lengths.  Calculate this measure for the first 500 words of you document and report the results here. Exclude tokens that are exclusively punctuation from all counts, and calculate this measure over the lowercased version of that text.  (You can find puncutation with `string.punctuation`.)  Your `type_token_ratio` function should take a single input as argument (a text at least 500 tokens long) and output a single real number (the TTR for that text).\n"
   ]
  },
  {
   "cell_type": "code",
   "execution_count": 57,
   "id": "051358e7",
   "metadata": {},
   "outputs": [],
   "source": [
    "def type_token_ratio(text, num_words=500):\n",
    "    text=text.lower()\n",
    "    tokens=nltk.word_tokenize(text, language=\"english\")[:num_words]\n",
    "    \n",
    "    assert len(tokens) <= num_words\n",
    "    \n",
    "    return len(set(tokens))/len(tokens)"
   ]
  },
  {
   "cell_type": "markdown",
   "id": "d531fc14",
   "metadata": {},
   "source": [
    "Again, test that function on texts by James, Austen and Alger (just execute this cell):"
   ]
  },
  {
   "cell_type": "code",
   "execution_count": 58,
   "id": "147b208d",
   "metadata": {},
   "outputs": [
    {
     "name": "stdout",
     "output_type": "stream",
     "text": [
      "James avg: 0.472\n",
      "James avg: 0.492\n",
      "James avg: 0.450\n",
      "Austen avg: 0.480\n",
      "Austen avg: 0.484\n",
      "Austen avg: 0.400\n",
      "Alger avg: 0.440\n",
      "Alger avg: 0.414\n",
      "Alger avg: 0.502\n"
     ]
    }
   ],
   "source": [
    "for book in james:\n",
    "    ttr=type_token_ratio(book)\n",
    "    print(\"James avg: %.3f\" % ttr)\n",
    "\n",
    "for book in austen:\n",
    "    ttr=type_token_ratio(book)\n",
    "    print(\"Austen avg: %.3f\" % ttr)\n",
    "\n",
    "for book in alger:\n",
    "    ttr=type_token_ratio(book)\n",
    "    print(\"Alger avg: %.3f\" % ttr)\n",
    "    "
   ]
  },
  {
   "cell_type": "markdown",
   "id": "837ace5a",
   "metadata": {},
   "source": [
    "**Q3.** Finally, count up the token frequency of function words (these are determiners like \"the\", prepositions like \"in\" and conjunctions like \"and\" and \"because\").  Let's approximate \"function words\" by counting the token frequency of `nltk.corpus.stopwords`.  Here's that list:"
   ]
  },
  {
   "cell_type": "code",
   "execution_count": 59,
   "id": "958fe012",
   "metadata": {},
   "outputs": [
    {
     "name": "stdout",
     "output_type": "stream",
     "text": [
      "179 {'above', 'doesn', 'no', 'few', 'having', 'haven', 'doing', 'off', 'nor', 'by', 'any', 'own', 'isn', 'this', \"that'll\", 'mightn', 'herself', 's', 'too', 'were', 'his', \"mightn't\", 'because', 'whom', 'your', 'did', 'up', 'which', 'weren', 'themselves', 'has', 'over', \"hadn't\", 'through', 'ourselves', 'he', 'again', 'himself', 'won', 'does', \"wouldn't\", 'a', 'below', 'after', 'i', \"doesn't\", 'don', 'when', 'do', 'during', 'most', \"you'll\", \"you'd\", 'not', 't', 'can', 'being', 'they', 'who', 'as', 'there', \"didn't\", 'to', 'such', 'but', 'theirs', 'is', 'been', 'in', 'you', \"shan't\", 'didn', 'was', 'against', 'hers', 'where', 'be', 'm', 'now', \"couldn't\", 'what', 'had', 'we', 'yourselves', 'then', 'o', 'their', 'itself', 'll', 'and', 'hadn', \"aren't\", \"you've\", 'more', 'if', 'only', 'd', 'why', 'aren', 'wasn', \"hasn't\", \"you're\", \"it's\", 'me', 'she', 'should', 're', \"won't\", 'or', 'shouldn', 'at', 'under', 'myself', 'yours', 'its', \"don't\", 'that', 'wouldn', 'on', 'about', \"should've\", 've', 'an', 'than', 'between', 'before', \"needn't\", 'y', 'out', 'here', 'while', \"shouldn't\", 'further', 'shan', 'them', 'those', 'down', 'couldn', 'for', 'hasn', \"isn't\", \"wasn't\", 'my', 'ours', 'our', 'until', 'very', \"she's\", 'just', 'am', 'ma', 'it', \"mustn't\", 'have', 'yourself', \"haven't\", 'all', 'same', 'some', 'with', 'him', 'mustn', 'other', 'are', 'her', 'each', 'will', 'into', \"weren't\", 'once', 'these', 'of', 'needn', 'so', 'how', 'both', 'ain', 'from', 'the'}\n"
     ]
    }
   ],
   "source": [
    "from nltk.corpus import stopwords\n",
    "nltk_stopwords = set(stopwords.words('english'))\n",
    "print(len(nltk_stopwords), nltk_stopwords)"
   ]
  },
  {
   "cell_type": "markdown",
   "id": "1c9a9d27",
   "metadata": {},
   "source": [
    "Write a function `count_stopword_freqs` that takes a single text as input and returns a dictionary containing frequency of each of these terms within it -- e.g.:\n",
    "\n",
    "{\"wouldn\": 0.00003, ..., \"are\": 0.0004}\n",
    "\n",
    "Frequency is simply the count of that term in the text divided by the count of all tokens in the text."
   ]
  },
  {
   "cell_type": "code",
   "execution_count": 60,
   "id": "e67118ec",
   "metadata": {},
   "outputs": [],
   "source": [
    "from collections import Counter\n",
    "def count_stopwords_freqs(book):\n",
    "    nltk_stopwords = set(stopwords.words('english'))\n",
    "    counts=Counter()\n",
    "    tokens=nltk.word_tokenize(book.lower(), language=\"english\")\n",
    "    n=len(tokens)\n",
    "    for token in tokens:\n",
    "        if token in nltk_stopwords:\n",
    "            counts[token]+=1\n",
    "        \n",
    "            \n",
    "    freqs={}\n",
    "    for word in counts:\n",
    "        freqs[word]=counts[word]/n\n",
    "    return freqs\n",
    "            "
   ]
  },
  {
   "cell_type": "markdown",
   "id": "ca6ba2a0",
   "metadata": {},
   "source": [
    "Again, test that function on texts by James, Austen and Alger (just execute this cell):"
   ]
  },
  {
   "cell_type": "code",
   "execution_count": 61,
   "id": "f5f458b8",
   "metadata": {},
   "outputs": [
    {
     "name": "stdout",
     "output_type": "stream",
     "text": [
      "James 'because': 0.00026\n",
      "James 'because': 0.00048\n",
      "James 'because': 0.00025\n",
      "Austen 'because': 0.00028\n",
      "Austen 'because': 0.00027\n",
      "Austen 'because': 0.00044\n",
      "Alger 'because': 0.00037\n",
      "Alger 'because': 0.00034\n",
      "Alger 'because': 0.00052\n"
     ]
    }
   ],
   "source": [
    "for book in james:\n",
    "    freqs=count_stopwords_freqs(book)\n",
    "    print(\"James 'because': %.5f\" % freqs[\"because\"])\n",
    "\n",
    "for book in austen:\n",
    "    freqs=count_stopwords_freqs(book)\n",
    "    print(\"Austen 'because': %.5f\" % freqs[\"because\"])\n",
    "\n",
    "for book in alger:\n",
    "    freqs=count_stopwords_freqs(book)\n",
    "    print(\"Alger 'because': %.5f\" % freqs[\"because\"])"
   ]
  },
  {
   "cell_type": "markdown",
   "id": "2ae23125",
   "metadata": {},
   "source": [
    "The functions you wrote now give you a way represent a text as a vector of stylistic features.  Let's see how we can use that to compare the similarity of styles between the three authors above."
   ]
  },
  {
   "cell_type": "code",
   "execution_count": 62,
   "id": "d7989f3c",
   "metadata": {},
   "outputs": [],
   "source": [
    "def featurize_style(text):\n",
    "    vec=[]\n",
    "    vec.append(get_avg_sentence_length(text))\n",
    "    vec.append(type_token_ratio(text))\n",
    "    stopword_freq=count_stopwords_freqs(text)\n",
    "    for stop in set(stopwords.words('english')):\n",
    "        if stop in stopword_freq:\n",
    "            vec.append(stopword_freq[stop])\n",
    "        else:\n",
    "            vec.append(0)\n",
    "    return vec"
   ]
  },
  {
   "cell_type": "code",
   "execution_count": 63,
   "id": "a3737940",
   "metadata": {},
   "outputs": [],
   "source": [
    "all_vecs=[]\n",
    "for book in james:\n",
    "    all_vecs.append(featurize_style(book))\n",
    "\n",
    "for book in austen:\n",
    "    all_vecs.append(featurize_style(book))\n",
    "\n",
    "for book in alger:\n",
    "    all_vecs.append(featurize_style(book))\n"
   ]
  },
  {
   "cell_type": "markdown",
   "id": "32dd59b4",
   "metadata": {},
   "source": [
    "We're going to compare the style vector for each book with each other, comparing them via cosine similarity. To give equal weight to each style dimension, we'll normalize each feature to its z score (with respect to the value of that feature across all observations)."
   ]
  },
  {
   "cell_type": "code",
   "execution_count": 64,
   "id": "706876a1",
   "metadata": {},
   "outputs": [],
   "source": [
    "from sklearn.preprocessing import StandardScaler\n",
    "scaler = StandardScaler()\n",
    "scaler.fit(all_vecs)\n",
    "all_vecs=scaler.transform(all_vecs)"
   ]
  },
  {
   "cell_type": "code",
   "execution_count": 65,
   "id": "13ac684c",
   "metadata": {},
   "outputs": [],
   "source": [
    "from sklearn.metrics.pairwise import cosine_similarity"
   ]
  },
  {
   "cell_type": "code",
   "execution_count": 66,
   "id": "1241835a",
   "metadata": {},
   "outputs": [],
   "source": [
    "sims=cosine_similarity(all_vecs, all_vecs)"
   ]
  },
  {
   "cell_type": "markdown",
   "id": "db410987",
   "metadata": {},
   "source": [
    "Now let's visualize those similarites as a heatmap."
   ]
  },
  {
   "cell_type": "code",
   "execution_count": 67,
   "id": "78294f22",
   "metadata": {},
   "outputs": [],
   "source": [
    "import seaborn as sns\n",
    "import pandas as pd"
   ]
  },
  {
   "cell_type": "code",
   "execution_count": 71,
   "id": "8ac222da",
   "metadata": {},
   "outputs": [],
   "source": [
    "names=[\"james1\", \"james2\", \"james3\", \"austen1\", \"austen2\", \"austen3\", \"alger1\", \"alger2\", \"alger3\"]\n",
    "df = pd.DataFrame(sims, columns=names)"
   ]
  },
  {
   "cell_type": "code",
   "execution_count": 73,
   "id": "d57bb7f3",
   "metadata": {},
   "outputs": [
    {
     "data": {
      "image/png": "[encoded data removed]",
      "text/plain": [
       "<Figure size 640x480 with 2 Axes>"
      ]
     },
     "metadata": {},
     "output_type": "display_data"
    }
   ],
   "source": [
    "p1 = sns.heatmap(df, cmap=\"Greens\", xticklabels=names, yticklabels=names)"
   ]
  },
  {
   "cell_type": "markdown",
   "id": "20802c54",
   "metadata": {},
   "source": [
    "Q4 **(check-plus)**: From the Grieve 2005, \"[Quantiative Authorship Attribution: A History and Evaluation of Techniques](https://summit.sfu.ca/_flysystem/fedora/sfu_migrate/8840/etd1721.pdf)\" paper referenced above, pick one other stylistic feature and implement it."
   ]
  }
 ],
 "metadata": {
  "kernelspec": {
   "display_name": "Python 3 (ipykernel)",
   "language": "python",
   "name": "python3"
  },
  "language_info": {
   "codemirror_mode": {
    "name": "ipython",
    "version": 3
   },
   "file_extension": ".py",
   "mimetype": "text/x-python",
   "name": "python",
   "nbconvert_exporter": "python",
   "pygments_lexer": "ipython3",
   "version": "3.10.9"
  }
 },
 "nbformat": 4,
 "nbformat_minor": 5
}
