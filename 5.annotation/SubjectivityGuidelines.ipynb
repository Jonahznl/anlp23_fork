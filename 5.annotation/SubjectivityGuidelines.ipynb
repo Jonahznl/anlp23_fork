{
 "cells": [
  {
   "cell_type": "markdown",
   "id": "0e3f9bea",
   "metadata": {},
   "source": [
    "For our in-class exercise today, you worked with a team to formalize the distiction between subjectivity vs. objectivity.  Now you will annotate a new set of documents with your formalization and create a minimal set of guidelines reflecting your interpretation of that concept."
   ]
  },
  {
   "cell_type": "markdown",
   "id": "6b7f3c4b",
   "metadata": {},
   "source": [
    "**Q1**. In ~100-200 words, describe your definition of subjective and objective texts. (This can be the same description as your in-class group activity.)"
   ]
  },
  {
   "cell_type": "markdown",
   "id": "286fdb6d",
   "metadata": {},
   "source": [
    "Answer: \\\n",
    "There can be 4 steps to check whether a statement is subjective or objective. \n",
    " - Step 1: Whether the statement expresses a feeling or emotion or very personal opinion toward something. If so, the statement is subjective. Note that very personal opinion can later be proved as objective but the expression may intend to be subjective. If not, please refer to Step 2. \n",
    " - Step 2: Whether the statement can be checked against a fact. If so, please refer to Step 2-a and 2-b. If not or if the fact check returns many conflicting observations and no conclusions, please refer to Step 3. \n",
    "     - Step 2-a: If the check result is a pass, then the statement is objective. \n",
    "     - Step 2-b: If the check result is negative, then the statement is subjective. \n",
    " - Step 3: If a large percent (maybe >= 80%) of people around the world can agree on it, the statement is likely to be objective. Otherwise, it is more likely to be subjective.\n",
    " - Step 4: (Special Note) The steps above may not be applicable to interpretation of iterary expressions containing metaphors and allegories. Or if must be applied, the steps may need to shift the results more toward subjectivity."
   ]
  },
  {
   "cell_type": "markdown",
   "id": "32d145c2",
   "metadata": {},
   "source": [
    "**Q2**. Annotate the data in `data/subjective_objective.tsv` using this definition.  Your annotation should consist entirely of putting either \"subjective\" or \"objective\" in the first column of that file.  Don't discuss these annotations with anyone else (including your class group) -- they should be *independent* at this point.  You'll upload this file to bCourses along with this completed notebook."
   ]
  },
  {
   "cell_type": "markdown",
   "id": "0129968e",
   "metadata": {},
   "source": [
    "**Q3**. From those annotations, pull out 15 examples that characterize the ends of this concept and the boundary between them. These 15 examples should be:\n",
    "\n",
    "* 5 clearly objective documents\n",
    "* 5 clearly subjective documents\n",
    "* 5 documents on the boundary between the two classes; for each of these 5 examples, explain why they might be confusing, how they should be annotated in your system, and any general principles we should take away from the example that we should use to guide our annotation of similar cases of ambiguity.\n",
    "\n",
    "Go ahead and put these examples in this notebook."
   ]
  },
  {
   "cell_type": "markdown",
   "id": "8bc4a407",
   "metadata": {},
   "source": [
    "1. clearly objective:\n",
    " - It's raining outside.\n",
    " - The Federal Reserve and its counterparts abroad slashed interest rates in the face of the 2008 financial crisis and have kept them very low — in some cases below zero — ever since. \n",
    " - 2 + 2 = 4.\n",
    " - For years, Ireland’s low corporate tax rate has lured multinational organizations to set up overseas subsidiaries here. \n",
    " - John Krasinski is married to Emily Blunt."
   ]
  },
  {
   "cell_type": "markdown",
   "id": "9bd1438b",
   "metadata": {},
   "source": [
    "2. clearly subjective:\n",
    " - I couldn’t help but feel that the company’s actions were, on some level, retaliatory.\n",
    " - John Krasinski loves Emily Blunt.\n",
    " - That is the cutest cat I have ever seen.\n",
    " - This is the saddest story I have ever heard.\n",
    " - NLP is the best subfield of AI."
   ]
  },
  {
   "cell_type": "markdown",
   "id": "6beb5b5d",
   "metadata": {},
   "source": [
    "3. ambiguous:\n",
    " - Yosef Chaim Bernfeld, a young businessman from New York who is trying to straighten out his life, journeyed to Uman this weekend for a “spiritual fix.”\n",
    " - From the depths of 60-0 deficit six quarters into their season, and a 21-point third-quarter hole Sunday in Arizona, the Giants suddenly, improbably, have life.\n",
    " - That the rebellion went only so far, for now, has underscored the psychic hold that the rankings have on American higher education, even for the country’s most renowned schools. \n",
    " - It is your moral responsibility as a citizen to be vaccinated to protect others from harm arising from COVID-19.\n",
    " - Since a Supreme Court ruling in 2018 opened the door for more states to greenlight sports gambling, the N.F.L. and its teams have increasingly embraced betting as the league’s biggest area of revenue growth. "
   ]
  },
  {
   "cell_type": "code",
   "execution_count": null,
   "id": "65a35f54",
   "metadata": {},
   "outputs": [],
   "source": []
  }
 ],
 "metadata": {
  "kernelspec": {
   "display_name": "Python 3 (ipykernel)",
   "language": "python",
   "name": "python3"
  },
  "language_info": {
   "codemirror_mode": {
    "name": "ipython",
    "version": 3
   },
   "file_extension": ".py",
   "mimetype": "text/x-python",
   "name": "python",
   "nbconvert_exporter": "python",
   "pygments_lexer": "ipython3",
   "version": "3.11.4"
  }
 },
 "nbformat": 4,
 "nbformat_minor": 5
}
