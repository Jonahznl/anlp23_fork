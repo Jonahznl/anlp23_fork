{
 "cells": [
  {
   "cell_type": "markdown",
   "metadata": {},
   "source": [
    "The meaning of words often changes over time.  In this homework, you will explore this phenomenon by identifying shifts in word meaning over the space of one hundred years by examining word embeddings trained on historical data (largely published before 1923) and those trained on contemporary texts."
   ]
  },
  {
   "cell_type": "code",
   "execution_count": 1,
   "metadata": {},
   "outputs": [],
   "source": [
    "import re\n",
    "from gensim.models import KeyedVectors\n",
    "import operator"
   ]
  },
  {
   "cell_type": "code",
   "execution_count": 2,
   "metadata": {},
   "outputs": [],
   "source": [
    "wiki = KeyedVectors.load_word2vec_format(\"../data/glove.6B.50d.50K.txt\", binary=False)"
   ]
  },
  {
   "cell_type": "code",
   "execution_count": 3,
   "metadata": {},
   "outputs": [],
   "source": [
    "guten = KeyedVectors.load_word2vec_format(\"../data/gutenberg.200.vectors.50K.txt\", binary=False)"
   ]
  },
  {
   "cell_type": "markdown",
   "metadata": {},
   "source": [
    "Q1. Before we jump in, select 5 words whose senses you believe have changed over the period of the past 100 years. Ensure they are in the vocabulary of both models.  Explain the two different meanings they have.  This is an important step in stating your beliefs before you examine any empirical evidence; do not change these terms after you have run the models you develop below.  (Here we are only evaluating the rationales, not whether the terms *actually* undergo sense change, as measured below.)"
   ]
  },
  {
   "cell_type": "code",
   "execution_count": 4,
   "metadata": {},
   "outputs": [],
   "source": [
    "# fill in terms here\n",
    "terms=[\"apple\", \"tank\", \"mouse\", \"weed\", \"album\"]\n",
    "for term in terms:\n",
    "    if term not in wiki or term not in guten:\n",
    "        print(\"%s missing!\" % term)"
   ]
  },
  {
   "cell_type": "markdown",
   "metadata": {},
   "source": [
    "**Q1 response**.\n",
    "\n",
    "apple: \\\n",
    "past - a fruit \\\n",
    "now - a company\n",
    "\n",
    "tank: \\\n",
    "past - a container for liquid \\\n",
    "now - mobile military weapon\n",
    "\n",
    "mouse: \\\n",
    "past - an animal \\\n",
    "now - a peripheral for a computer\n",
    "\n",
    "weed: \\\n",
    "past - invaluable plants in the garden/farm \\\n",
    "now - cannabis\n",
    "\n",
    "album: \\\n",
    "past - collection of history records \\\n",
    "now - collection of music or photos"
   ]
  },
  {
   "cell_type": "markdown",
   "metadata": {},
   "source": [
    "Q2. Find the words that have changed the most by calculating the number of words that overlap in their 50 nearest neighbors.  That is, let $\\mathcal{N}_{guten}(\\textrm{awesome})$ be the 50 nearest neighbors for the word \"awesome\" in the Gutenberg embeddings and $\\mathcal{N}_{wiki}(\\textrm{awesome})$ be the 50 nearest neighbors for \"awesome\" in the Wikipedia embeddings.  Calculate the size of $\\mathcal{N}_{guten}(\\textrm{awesome}) \\cap \\mathcal{N}_{wiki}(\\textrm{awesome})$.  Under this method, the words that share the *fewest* neighbors have moved the furthest apart.  Display the 100 words that have moved the furthest apart and the 100 words that have remained the closest together, along with their intersection score.  "
   ]
  },
  {
   "cell_type": "markdown",
   "metadata": {},
   "source": [
    "Now let's look at how much the candidate terms you defined above have changed their meaning as measured in these embeddings.  First, we can just print their neighborhoods:"
   ]
  },
  {
   "cell_type": "code",
   "execution_count": 5,
   "metadata": {},
   "outputs": [],
   "source": [
    "def print_top(word):\n",
    "    print(\"=== %s ===\\n\" % word)\n",
    "    print(\"Gutenberg:\")\n",
    "    for k, v in guten.most_similar(word, topn=10):\n",
    "        print(\"%.3f\\t%s\" % (v,k))\n",
    "\n",
    "    print()\n",
    "    print(\"Wikipedia:\")\n",
    "    for k, v in wiki.most_similar(word, topn=10):\n",
    "        print(\"%.3f\\t%s\" % (v,k)) \n",
    "    print()"
   ]
  },
  {
   "cell_type": "code",
   "execution_count": 6,
   "metadata": {
    "scrolled": true
   },
   "outputs": [
    {
     "name": "stdout",
     "output_type": "stream",
     "text": [
      "=== apple ===\n",
      "\n",
      "Gutenberg:\n",
      "0.686\tfruit\n",
      "0.679\tapples\n",
      "0.662\tapricot\n",
      "0.662\tonion\n",
      "0.661\tpear\n",
      "0.656\tcabbage\n",
      "0.656\tcherry\n",
      "0.656\tpeach\n",
      "0.648\tbread-fruit\n",
      "0.639\tgum\n",
      "\n",
      "Wikipedia:\n",
      "0.754\tblackberry\n",
      "0.744\tchips\n",
      "0.743\tiphone\n",
      "0.733\tmicrosoft\n",
      "0.733\tipad\n",
      "0.722\tpc\n",
      "0.720\tipod\n",
      "0.719\tintel\n",
      "0.715\tibm\n",
      "0.709\tsoftware\n",
      "\n",
      "=== tank ===\n",
      "\n",
      "Gutenberg:\n",
      "0.653\thydrant\n",
      "0.632\tcistern\n",
      "0.625\tbasin\n",
      "0.609\tradiator\n",
      "0.591\ttrough\n",
      "0.579\tpail\n",
      "0.579\tdribbling\n",
      "0.578\twater\n",
      "0.577\tbuckets\n",
      "0.577\trefrigerator\n",
      "\n",
      "Wikipedia:\n",
      "0.846\ttanks\n",
      "0.747\trocket\n",
      "0.737\tartillery\n",
      "0.724\tfire\n",
      "0.711\tcannon\n",
      "0.688\tlauncher\n",
      "0.684\tarmored\n",
      "0.682\tarmoured\n",
      "0.676\tmunitions\n",
      "0.675\tmounted\n",
      "\n",
      "=== mouse ===\n",
      "\n",
      "Gutenberg:\n",
      "0.701\tkitten\n",
      "0.694\tcat\n",
      "0.641\tdog\n",
      "0.589\tbird\n",
      "0.580\tcaterpillar\n",
      "0.576\tpuppy\n",
      "0.559\tbutterfly\n",
      "0.549\then\n",
      "0.545\tsquirrel\n",
      "0.537\tdormouse\n",
      "\n",
      "Wikipedia:\n",
      "0.797\tmonkey\n",
      "0.781\tbugs\n",
      "0.773\tcat\n",
      "0.762\trabbit\n",
      "0.750\tworm\n",
      "0.731\tclone\n",
      "0.727\trobot\n",
      "0.720\tspider\n",
      "0.710\tbug\n",
      "0.703\tfrog\n",
      "\n",
      "=== weed ===\n",
      "\n",
      "Gutenberg:\n",
      "0.598\tfurze\n",
      "0.596\tnettles\n",
      "0.593\therb\n",
      "0.591\tgrape\n",
      "0.580\tflower\n",
      "0.579\tjuice\n",
      "0.576\tbramble\n",
      "0.574\tmaize\n",
      "0.573\therbs\n",
      "0.572\ttuft\n",
      "\n",
      "Wikipedia:\n",
      "0.782\tpests\n",
      "0.777\tweeds\n",
      "0.688\tpest\n",
      "0.683\tsusceptible\n",
      "0.675\tresistant\n",
      "0.671\tmanure\n",
      "0.657\tmeth\n",
      "0.651\tbully\n",
      "0.642\tworm\n",
      "0.638\teradicate\n",
      "\n",
      "=== album ===\n",
      "\n",
      "Gutenberg:\n",
      "0.621\tinkstand\n",
      "0.621\tphotograph\n",
      "0.604\twater-color\n",
      "0.604\tautograph\n",
      "0.600\talmanac\n",
      "0.599\tescritoire\n",
      "0.597\treticule\n",
      "0.591\tetchings\n",
      "0.589\tmonogram\n",
      "0.589\tclippings\n",
      "\n",
      "Wikipedia:\n",
      "0.930\tsong\n",
      "0.915\talbums\n",
      "0.888\tsoundtrack\n",
      "0.880\tcompilation\n",
      "0.871\tband\n",
      "0.870\tremix\n",
      "0.870\tep\n",
      "0.867\tsongs\n",
      "0.866\tself-titled\n",
      "0.844\tb-side\n",
      "\n"
     ]
    }
   ],
   "source": [
    "for term in terms:\n",
    "    print_top(term)"
   ]
  },
  {
   "cell_type": "markdown",
   "metadata": {},
   "source": [
    "**Q2 response**."
   ]
  },
  {
   "cell_type": "code",
   "execution_count": 7,
   "metadata": {},
   "outputs": [],
   "source": [
    "def count_overlap(word):\n",
    "    \n",
    "    guten_list = [k for k,v in guten.most_similar(word, topn=50)]\n",
    "    wiki_list = [k for k,v in wiki.most_similar(word, topn=50)]\n",
    "\n",
    "    return len(set(guten_list) & set(wiki_list))"
   ]
  },
  {
   "cell_type": "code",
   "execution_count": 8,
   "metadata": {},
   "outputs": [
    {
     "name": "stdout",
     "output_type": "stream",
     "text": [
      "[1, 2, 9, 5, 0]\n"
     ]
    }
   ],
   "source": [
    "scores = []\n",
    "\n",
    "for term in terms:\n",
    "    scores.append(count_overlap(term))\n",
    "\n",
    "print(scores)"
   ]
  },
  {
   "cell_type": "code",
   "execution_count": 9,
   "metadata": {},
   "outputs": [
    {
     "data": {
      "text/plain": [
       "25603"
      ]
     },
     "execution_count": 9,
     "metadata": {},
     "output_type": "execute_result"
    }
   ],
   "source": [
    "common_words = list(set(list(guten.key_to_index.keys())) & set(list(wiki.key_to_index.keys())))\n",
    "\n",
    "pattern = r'\\d+'\n",
    "common_words_without_numbers = [s for s in common_words if not re.search(pattern, s)]\n",
    "\n",
    "len(common_words_without_numbers)"
   ]
  },
  {
   "cell_type": "code",
   "execution_count": 10,
   "metadata": {},
   "outputs": [],
   "source": [
    "scores = []\n",
    "\n",
    "for word in common_words_without_numbers:\n",
    "    scores.append(count_overlap(word))"
   ]
  },
  {
   "cell_type": "code",
   "execution_count": 11,
   "metadata": {},
   "outputs": [],
   "source": [
    "import pandas as pd\n",
    "\n",
    "data = {'word': common_words_without_numbers,\n",
    "        'score': scores}\n",
    "\n",
    "df = pd.DataFrame(data)"
   ]
  },
  {
   "cell_type": "markdown",
   "metadata": {},
   "source": [
    "**closest 100 words:**"
   ]
  },
  {
   "cell_type": "code",
   "execution_count": 12,
   "metadata": {},
   "outputs": [
    {
     "data": {
      "text/html": [
       "<div>\n",
       "<style scoped>\n",
       "    .dataframe tbody tr th:only-of-type {\n",
       "        vertical-align: middle;\n",
       "    }\n",
       "\n",
       "    .dataframe tbody tr th {\n",
       "        vertical-align: top;\n",
       "    }\n",
       "\n",
       "    .dataframe thead th {\n",
       "        text-align: right;\n",
       "    }\n",
       "</style>\n",
       "<table border=\"1\" class=\"dataframe\">\n",
       "  <thead>\n",
       "    <tr style=\"text-align: right;\">\n",
       "      <th></th>\n",
       "      <th>word</th>\n",
       "      <th>score</th>\n",
       "    </tr>\n",
       "  </thead>\n",
       "  <tbody>\n",
       "    <tr>\n",
       "      <th>25602</th>\n",
       "      <td>rehabilitation</td>\n",
       "      <td>0</td>\n",
       "    </tr>\n",
       "    <tr>\n",
       "      <th>7234</th>\n",
       "      <td>outlandish</td>\n",
       "      <td>0</td>\n",
       "    </tr>\n",
       "    <tr>\n",
       "      <th>18212</th>\n",
       "      <td>caledonian</td>\n",
       "      <td>0</td>\n",
       "    </tr>\n",
       "    <tr>\n",
       "      <th>7231</th>\n",
       "      <td>missy</td>\n",
       "      <td>0</td>\n",
       "    </tr>\n",
       "    <tr>\n",
       "      <th>18215</th>\n",
       "      <td>wetter</td>\n",
       "      <td>0</td>\n",
       "    </tr>\n",
       "    <tr>\n",
       "      <th>...</th>\n",
       "      <td>...</td>\n",
       "      <td>...</td>\n",
       "    </tr>\n",
       "    <tr>\n",
       "      <th>18422</th>\n",
       "      <td>wellington</td>\n",
       "      <td>0</td>\n",
       "    </tr>\n",
       "    <tr>\n",
       "      <th>18428</th>\n",
       "      <td>driveway</td>\n",
       "      <td>0</td>\n",
       "    </tr>\n",
       "    <tr>\n",
       "      <th>7036</th>\n",
       "      <td>religiously</td>\n",
       "      <td>0</td>\n",
       "    </tr>\n",
       "    <tr>\n",
       "      <th>7032</th>\n",
       "      <td>fitch</td>\n",
       "      <td>0</td>\n",
       "    </tr>\n",
       "    <tr>\n",
       "      <th>18397</th>\n",
       "      <td>lampoon</td>\n",
       "      <td>0</td>\n",
       "    </tr>\n",
       "  </tbody>\n",
       "</table>\n",
       "<p>100 rows × 2 columns</p>\n",
       "</div>"
      ],
      "text/plain": [
       "                 word  score\n",
       "25602  rehabilitation      0\n",
       "7234       outlandish      0\n",
       "18212      caledonian      0\n",
       "7231            missy      0\n",
       "18215          wetter      0\n",
       "...               ...    ...\n",
       "18422      wellington      0\n",
       "18428        driveway      0\n",
       "7036      religiously      0\n",
       "7032            fitch      0\n",
       "18397         lampoon      0\n",
       "\n",
       "[100 rows x 2 columns]"
      ]
     },
     "execution_count": 12,
     "metadata": {},
     "output_type": "execute_result"
    }
   ],
   "source": [
    "df.sort_values(by=[\"score\"], ascending=True).head(100)"
   ]
  },
  {
   "cell_type": "markdown",
   "metadata": {},
   "source": [
    "**farthest 100 words:**"
   ]
  },
  {
   "cell_type": "code",
   "execution_count": 13,
   "metadata": {},
   "outputs": [
    {
     "data": {
      "text/html": [
       "<div>\n",
       "<style scoped>\n",
       "    .dataframe tbody tr th:only-of-type {\n",
       "        vertical-align: middle;\n",
       "    }\n",
       "\n",
       "    .dataframe tbody tr th {\n",
       "        vertical-align: top;\n",
       "    }\n",
       "\n",
       "    .dataframe thead th {\n",
       "        text-align: right;\n",
       "    }\n",
       "</style>\n",
       "<table border=\"1\" class=\"dataframe\">\n",
       "  <thead>\n",
       "    <tr style=\"text-align: right;\">\n",
       "      <th></th>\n",
       "      <th>word</th>\n",
       "      <th>score</th>\n",
       "    </tr>\n",
       "  </thead>\n",
       "  <tbody>\n",
       "    <tr>\n",
       "      <th>18764</th>\n",
       "      <td>fifteen</td>\n",
       "      <td>31</td>\n",
       "    </tr>\n",
       "    <tr>\n",
       "      <th>10781</th>\n",
       "      <td>fourteen</td>\n",
       "      <td>30</td>\n",
       "    </tr>\n",
       "    <tr>\n",
       "      <th>7705</th>\n",
       "      <td>kentucky</td>\n",
       "      <td>29</td>\n",
       "    </tr>\n",
       "    <tr>\n",
       "      <th>1667</th>\n",
       "      <td>iowa</td>\n",
       "      <td>29</td>\n",
       "    </tr>\n",
       "    <tr>\n",
       "      <th>8648</th>\n",
       "      <td>thirteenth</td>\n",
       "      <td>29</td>\n",
       "    </tr>\n",
       "    <tr>\n",
       "      <th>...</th>\n",
       "      <td>...</td>\n",
       "      <td>...</td>\n",
       "    </tr>\n",
       "    <tr>\n",
       "      <th>19676</th>\n",
       "      <td>tenth</td>\n",
       "      <td>19</td>\n",
       "    </tr>\n",
       "    <tr>\n",
       "      <th>10768</th>\n",
       "      <td>pie</td>\n",
       "      <td>19</td>\n",
       "    </tr>\n",
       "    <tr>\n",
       "      <th>10247</th>\n",
       "      <td>pennsylvania</td>\n",
       "      <td>19</td>\n",
       "    </tr>\n",
       "    <tr>\n",
       "      <th>2977</th>\n",
       "      <td>s.</td>\n",
       "      <td>19</td>\n",
       "    </tr>\n",
       "    <tr>\n",
       "      <th>5482</th>\n",
       "      <td>germany</td>\n",
       "      <td>19</td>\n",
       "    </tr>\n",
       "  </tbody>\n",
       "</table>\n",
       "<p>100 rows × 2 columns</p>\n",
       "</div>"
      ],
      "text/plain": [
       "               word  score\n",
       "18764       fifteen     31\n",
       "10781      fourteen     30\n",
       "7705       kentucky     29\n",
       "1667           iowa     29\n",
       "8648     thirteenth     29\n",
       "...             ...    ...\n",
       "19676         tenth     19\n",
       "10768           pie     19\n",
       "10247  pennsylvania     19\n",
       "2977             s.     19\n",
       "5482        germany     19\n",
       "\n",
       "[100 rows x 2 columns]"
      ]
     },
     "execution_count": 13,
     "metadata": {},
     "output_type": "execute_result"
    }
   ],
   "source": [
    "df.sort_values(by=[\"score\"], ascending=False).head(100)"
   ]
  },
  {
   "cell_type": "markdown",
   "metadata": {},
   "source": [
    "**check+**. Let's make this a little more precise.  Rank all terms by the overlap score you created above, so that words with scores closer to 0 (i.e., no overlap in nearest neighbors) are ranked higher (i.e., closer to position 1). Measure how good your guesses were by calculating their [mean reciprocal rank](https://en.wikipedia.org/wiki/Mean_reciprocal_rank) within this list.  (Again, we're not evaluating how good your guesses were above, but rather the correctness of your implementation of MRR.)"
   ]
  },
  {
   "cell_type": "code",
   "execution_count": 14,
   "metadata": {},
   "outputs": [
    {
     "data": {
      "text/html": [
       "<div>\n",
       "<style scoped>\n",
       "    .dataframe tbody tr th:only-of-type {\n",
       "        vertical-align: middle;\n",
       "    }\n",
       "\n",
       "    .dataframe tbody tr th {\n",
       "        vertical-align: top;\n",
       "    }\n",
       "\n",
       "    .dataframe thead th {\n",
       "        text-align: right;\n",
       "    }\n",
       "</style>\n",
       "<table border=\"1\" class=\"dataframe\">\n",
       "  <thead>\n",
       "    <tr style=\"text-align: right;\">\n",
       "      <th></th>\n",
       "      <th>word</th>\n",
       "      <th>score</th>\n",
       "      <th>rank</th>\n",
       "      <th>rr</th>\n",
       "    </tr>\n",
       "  </thead>\n",
       "  <tbody>\n",
       "    <tr>\n",
       "      <th>25602</th>\n",
       "      <td>rehabilitation</td>\n",
       "      <td>0</td>\n",
       "      <td>1</td>\n",
       "      <td>1.000000</td>\n",
       "    </tr>\n",
       "    <tr>\n",
       "      <th>7234</th>\n",
       "      <td>outlandish</td>\n",
       "      <td>0</td>\n",
       "      <td>2</td>\n",
       "      <td>0.500000</td>\n",
       "    </tr>\n",
       "    <tr>\n",
       "      <th>18212</th>\n",
       "      <td>caledonian</td>\n",
       "      <td>0</td>\n",
       "      <td>3</td>\n",
       "      <td>0.333333</td>\n",
       "    </tr>\n",
       "    <tr>\n",
       "      <th>7231</th>\n",
       "      <td>missy</td>\n",
       "      <td>0</td>\n",
       "      <td>4</td>\n",
       "      <td>0.250000</td>\n",
       "    </tr>\n",
       "    <tr>\n",
       "      <th>18215</th>\n",
       "      <td>wetter</td>\n",
       "      <td>0</td>\n",
       "      <td>5</td>\n",
       "      <td>0.200000</td>\n",
       "    </tr>\n",
       "    <tr>\n",
       "      <th>...</th>\n",
       "      <td>...</td>\n",
       "      <td>...</td>\n",
       "      <td>...</td>\n",
       "      <td>...</td>\n",
       "    </tr>\n",
       "    <tr>\n",
       "      <th>7705</th>\n",
       "      <td>kentucky</td>\n",
       "      <td>29</td>\n",
       "      <td>25599</td>\n",
       "      <td>0.000039</td>\n",
       "    </tr>\n",
       "    <tr>\n",
       "      <th>8648</th>\n",
       "      <td>thirteenth</td>\n",
       "      <td>29</td>\n",
       "      <td>25600</td>\n",
       "      <td>0.000039</td>\n",
       "    </tr>\n",
       "    <tr>\n",
       "      <th>1667</th>\n",
       "      <td>iowa</td>\n",
       "      <td>29</td>\n",
       "      <td>25601</td>\n",
       "      <td>0.000039</td>\n",
       "    </tr>\n",
       "    <tr>\n",
       "      <th>10781</th>\n",
       "      <td>fourteen</td>\n",
       "      <td>30</td>\n",
       "      <td>25602</td>\n",
       "      <td>0.000039</td>\n",
       "    </tr>\n",
       "    <tr>\n",
       "      <th>18764</th>\n",
       "      <td>fifteen</td>\n",
       "      <td>31</td>\n",
       "      <td>25603</td>\n",
       "      <td>0.000039</td>\n",
       "    </tr>\n",
       "  </tbody>\n",
       "</table>\n",
       "<p>25603 rows × 4 columns</p>\n",
       "</div>"
      ],
      "text/plain": [
       "                 word  score   rank        rr\n",
       "25602  rehabilitation      0      1  1.000000\n",
       "7234       outlandish      0      2  0.500000\n",
       "18212      caledonian      0      3  0.333333\n",
       "7231            missy      0      4  0.250000\n",
       "18215          wetter      0      5  0.200000\n",
       "...               ...    ...    ...       ...\n",
       "7705         kentucky     29  25599  0.000039\n",
       "8648       thirteenth     29  25600  0.000039\n",
       "1667             iowa     29  25601  0.000039\n",
       "10781        fourteen     30  25602  0.000039\n",
       "18764         fifteen     31  25603  0.000039\n",
       "\n",
       "[25603 rows x 4 columns]"
      ]
     },
     "execution_count": 14,
     "metadata": {},
     "output_type": "execute_result"
    }
   ],
   "source": [
    "df_rank = df.sort_values(by=[\"score\"], ascending=True)\n",
    "df_rank[\"rank\"] = list(range(1, len(df_rank)+1))\n",
    "df_rank[\"rr\"] = 1 / df_rank[\"rank\"]\n",
    "df_rank"
   ]
  },
  {
   "cell_type": "code",
   "execution_count": 15,
   "metadata": {},
   "outputs": [
    {
     "data": {
      "text/html": [
       "<div>\n",
       "<style scoped>\n",
       "    .dataframe tbody tr th:only-of-type {\n",
       "        vertical-align: middle;\n",
       "    }\n",
       "\n",
       "    .dataframe tbody tr th {\n",
       "        vertical-align: top;\n",
       "    }\n",
       "\n",
       "    .dataframe thead th {\n",
       "        text-align: right;\n",
       "    }\n",
       "</style>\n",
       "<table border=\"1\" class=\"dataframe\">\n",
       "  <thead>\n",
       "    <tr style=\"text-align: right;\">\n",
       "      <th></th>\n",
       "      <th>word</th>\n",
       "      <th>score</th>\n",
       "      <th>rank</th>\n",
       "      <th>rr</th>\n",
       "    </tr>\n",
       "  </thead>\n",
       "  <tbody>\n",
       "    <tr>\n",
       "      <th>11737</th>\n",
       "      <td>album</td>\n",
       "      <td>0</td>\n",
       "      <td>3141</td>\n",
       "      <td>0.000318</td>\n",
       "    </tr>\n",
       "    <tr>\n",
       "      <th>22595</th>\n",
       "      <td>apple</td>\n",
       "      <td>1</td>\n",
       "      <td>10397</td>\n",
       "      <td>0.000096</td>\n",
       "    </tr>\n",
       "    <tr>\n",
       "      <th>7855</th>\n",
       "      <td>tank</td>\n",
       "      <td>2</td>\n",
       "      <td>13760</td>\n",
       "      <td>0.000073</td>\n",
       "    </tr>\n",
       "    <tr>\n",
       "      <th>5637</th>\n",
       "      <td>weed</td>\n",
       "      <td>5</td>\n",
       "      <td>20038</td>\n",
       "      <td>0.000050</td>\n",
       "    </tr>\n",
       "    <tr>\n",
       "      <th>21172</th>\n",
       "      <td>mouse</td>\n",
       "      <td>9</td>\n",
       "      <td>23793</td>\n",
       "      <td>0.000042</td>\n",
       "    </tr>\n",
       "  </tbody>\n",
       "</table>\n",
       "</div>"
      ],
      "text/plain": [
       "        word  score   rank        rr\n",
       "11737  album      0   3141  0.000318\n",
       "22595  apple      1  10397  0.000096\n",
       "7855    tank      2  13760  0.000073\n",
       "5637    weed      5  20038  0.000050\n",
       "21172  mouse      9  23793  0.000042"
      ]
     },
     "execution_count": 15,
     "metadata": {},
     "output_type": "execute_result"
    }
   ],
   "source": [
    "df_select = df_rank[(df_rank[\"word\"] == \"apple\") | (df_rank[\"word\"] == \"tank\") | (df_rank[\"word\"] == \"mouse\") | (df_rank[\"word\"] == \"weed\") | (df_rank[\"word\"] == \"album\")]\n",
    "df_select"
   ]
  },
  {
   "cell_type": "code",
   "execution_count": 16,
   "metadata": {},
   "outputs": [
    {
     "data": {
      "text/plain": [
       "0.00011583206074514676"
      ]
     },
     "execution_count": 16,
     "metadata": {},
     "output_type": "execute_result"
    }
   ],
   "source": [
    "MRR = df_select[\"rr\"].sum()/5\n",
    "MRR"
   ]
  }
 ],
 "metadata": {
  "kernelspec": {
   "display_name": "Python 3 (ipykernel)",
   "language": "python",
   "name": "python3"
  },
  "language_info": {
   "codemirror_mode": {
    "name": "ipython",
    "version": 3
   },
   "file_extension": ".py",
   "mimetype": "text/x-python",
   "name": "python",
   "nbconvert_exporter": "python",
   "pygments_lexer": "ipython3",
   "version": "3.11.4"
  }
 },
 "nbformat": 4,
 "nbformat_minor": 2
}
