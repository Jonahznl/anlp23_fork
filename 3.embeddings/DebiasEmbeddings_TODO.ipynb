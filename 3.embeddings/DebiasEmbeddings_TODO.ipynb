{
 "cells": [
  {
   "cell_type": "markdown",
   "id": "902a9eb8",
   "metadata": {},
   "source": [
    "In this homework, you will debias word embeddings using the method from [Bolukbasi et al. 2016](https://arxiv.org/abs/1607.06520) and interpreted through [Vargas and Cotterell 2020](https://arxiv.org/abs/2009.09435). "
   ]
  },
  {
   "cell_type": "code",
   "execution_count": 1,
   "id": "3a3169da",
   "metadata": {},
   "outputs": [],
   "source": [
    "import re\n",
    "from gensim.models import KeyedVectors\n",
    "import numpy as np\n",
    "from sklearn.decomposition import PCA\n",
    "from sklearn.metrics.pairwise import cosine_similarity"
   ]
  },
  {
   "cell_type": "code",
   "execution_count": 2,
   "id": "31d7827f",
   "metadata": {},
   "outputs": [],
   "source": [
    "glove = KeyedVectors.load_word2vec_format(\"../data/glove.6B.100d.100K.w2v.txt\", binary=False)"
   ]
  },
  {
   "cell_type": "code",
   "execution_count": 3,
   "id": "f9bb9ece",
   "metadata": {},
   "outputs": [
    {
     "name": "stdout",
     "output_type": "stream",
     "text": [
      "(100,)\n",
      "[ 3.7293e-01  3.8503e-01  7.1086e-01 -6.5911e-01 -1.0128e-03  9.2715e-01\n",
      "  2.7615e-01 -5.6203e-02 -2.4294e-01  2.4632e-01 -1.8449e-01  3.1398e-01\n",
      "  4.8983e-01  9.2560e-02  3.2958e-01  1.5056e-01  5.7317e-01 -1.8529e-01\n",
      " -5.2277e-01  4.6191e-01  9.2038e-01  3.1001e-02 -1.6246e-01 -4.0567e-01\n",
      "  7.8621e-01  5.7722e-01 -5.3501e-01 -6.8228e-01  1.6987e-01  3.6310e-01\n",
      " -7.1773e-02  4.7233e-01  2.7806e-02 -1.4951e-01  1.7543e-01 -3.7573e-01\n",
      " -7.8517e-01  5.8171e-01  8.6859e-01  3.1445e-02 -4.5897e-01 -4.0917e-02\n",
      "  9.5897e-01 -1.6975e-01  1.3045e-01  2.7434e-01 -6.9485e-02  2.2402e-02\n",
      "  2.4977e-01 -2.1536e-01 -3.2406e-01 -3.9867e-01  6.8613e-01  1.7923e+00\n",
      " -3.7848e-01 -2.2477e+00 -7.7025e-01  4.6582e-01  1.2411e+00  5.7756e-01\n",
      "  4.1151e-01  8.4328e-01 -5.4259e-01 -1.6715e-01  7.3927e-01 -9.3477e-02\n",
      "  9.0278e-01  5.0889e-01 -5.0031e-01  2.6451e-01  1.5443e-01 -2.9432e-01\n",
      "  1.0906e-01 -2.6667e-01  3.5438e-01  4.9079e-02  1.8018e-01 -5.8590e-01\n",
      " -5.5542e-01 -2.8987e-01  7.4278e-01  3.4530e-01 -2.8757e-02 -2.2646e-01\n",
      " -1.3113e+00 -5.7190e-01 -5.2306e-01 -1.2670e-01 -9.8678e-02 -5.3463e-01\n",
      "  2.8607e-01 -3.7501e-01  4.5742e-01  4.5975e-02 -2.4675e-01  4.5656e-02\n",
      " -3.8302e-01 -9.3711e-01  3.9138e-02 -5.3911e-01]\n"
     ]
    }
   ],
   "source": [
    "# let's print one sample vector just to see what it looks like\n",
    "print(glove[\"man\"].shape)\n",
    "print(glove[\"man\"])"
   ]
  },
  {
   "cell_type": "markdown",
   "id": "932ca67b",
   "metadata": {},
   "source": [
    "Now let's calculate the cosine similarity of that vector (\"man\") with a set of other vectors (\"king\" and \"cabbage\").  This returns two cosine similarities, the first cos(man, king) and the second cos(man, cabbage)."
   ]
  },
  {
   "cell_type": "code",
   "execution_count": 4,
   "id": "dec789b1",
   "metadata": {},
   "outputs": [
    {
     "data": {
      "text/plain": [
       "array([0.5118682 , 0.04780922], dtype=float32)"
      ]
     },
     "execution_count": 4,
     "metadata": {},
     "output_type": "execute_result"
    }
   ],
   "source": [
    "glove.cosine_similarities(glove[\"man\"], [glove[\"king\"], glove[\"cabbage\"]])"
   ]
  },
  {
   "cell_type": "markdown",
   "id": "4aea7941",
   "metadata": {},
   "source": [
    "Let's use that machinery to find the differences between \"man\" and \"woman\" and a set of target terms."
   ]
  },
  {
   "cell_type": "code",
   "execution_count": 5,
   "id": "26939690",
   "metadata": {},
   "outputs": [
    {
     "name": "stdout",
     "output_type": "stream",
     "text": [
      "0.109\tmagician\n",
      "0.095\tmechanic\n",
      "0.082\tarchitect\n",
      "0.046\tactor\n",
      "0.035\tcook\n",
      "0.012\tchef\n",
      "-0.024\tdoctor\n",
      "-0.110\tlibrarian\n",
      "-0.154\tactress\n",
      "-0.158\tnurse\n"
     ]
    }
   ],
   "source": [
    "targets=[\"doctor\", \"nurse\", \"actor\", \"actress\", \"mechanic\", \"librarian\", \"architect\", \"magician\", \"cook\", \"chef\"]\n",
    "diffs={}\n",
    "for term in targets:\n",
    "    \n",
    "    m,w=glove.cosine_similarities(glove[term], [glove[\"man\"], glove[\"woman\"]])\n",
    "    diffs[term]=m-w\n",
    "\n",
    "for k, v in sorted(diffs.items(), key=lambda item: item[1], reverse=True):\n",
    "    print(\"%.3f\\t%s\" % (v,k))"
   ]
  },
  {
   "cell_type": "markdown",
   "id": "b6085ba0",
   "metadata": {},
   "source": [
    "We can see a gender difference here, where \"man\" is more aligned \"magician\" and \"mechanic\" and \"woman\" is more aligned with \"actress\" and \"nurse\"."
   ]
  },
  {
   "cell_type": "markdown",
   "id": "881bf91a",
   "metadata": {},
   "source": [
    "**Q1.** Let's debias those embeddings, using the method from [Bolukbasi et al. 2016](https://arxiv.org/abs/1607.06520) and interpreted through [Vargas and Cotterell 2020](https://arxiv.org/abs/2009.09435).  Debiasing embeddings requires two steps: finding the gender subspace and then subtracting the orthogonal projection onto that subspace from the original embedding.  Let's start with the first step: creating \"defining sets\" that capture the variation:\n",
    "\n",
    "$$\n",
    "D_1 = \\{man, woman\\}\\\\\n",
    "D_2 = \\{mr., mrs.\\}\n",
    "$$\n",
    "\n",
    "Following Vargas and Cotterell, we can find the gender subspace by constructing a new matrix $D'$ by substracting the embedding for a word in a defining set from the average of embeddings in that set. Using $e_{word}$ to denote the embedding for a word, this process would results in the following for the defining sets above:\n",
    "\n",
    "$$\n",
    "\\begin{bmatrix}\n",
    "e_{man} - \\textrm{mean}(e_{man},e_{woman}) \\\\\n",
    "e_{woman} - \\textrm{mean}(e_{man},e_{woman})\\\\\n",
    "e_{mr.} - \\textrm{mean}(e_{mr.},e_{mrs.})\\\\\n",
    "e_{mrs.} - \\textrm{mean}(e_{mr.},e_{mrs.})\\\\\n",
    "\\end{bmatrix}\n",
    "$$\n",
    "\n",
    "If the original embeddings (e.g., for $e_{man}$) are 100 dimensions (and so the mean over any set of embeddings is also 100 dimensions), then the resulting matrix $D'$ should be $4 \\times 100$.  Create this matrix $D'$ and name it `subspace_matrix`."
   ]
  },
  {
   "cell_type": "code",
   "execution_count": 6,
   "id": "d7abe9bd",
   "metadata": {},
   "outputs": [],
   "source": [
    "D1=[\"man\", \"woman\"]\n",
    "D2=[\"mr.\", \"mrs.\"]\n",
    "\n",
    "# TODO\n",
    "e_man = glove[\"man\"]\n",
    "e_woman = glove[\"woman\"]\n",
    "e_mr = glove[\"mr\"]\n",
    "e_mrs = glove[\"mrs\"]\n",
    "\n",
    "subspace_matrix = np.vstack(((e_man - np.mean([e_man, e_woman],axis=0)).reshape(1,100), \n",
    "                             (e_woman - np.mean([e_man, e_woman],axis=0)).reshape(1,100), \n",
    "                             (e_mr - np.mean([e_mr, e_mrs],axis=0)).reshape(1,100), \n",
    "                             (e_mrs - np.mean([e_mr, e_mrs],axis=0)).reshape(1,100)))"
   ]
  },
  {
   "cell_type": "code",
   "execution_count": 7,
   "id": "b61373e3",
   "metadata": {},
   "outputs": [
    {
     "name": "stdout",
     "output_type": "stream",
     "text": [
      "(4, 100)\n"
     ]
    }
   ],
   "source": [
    "# This should be (4,100)\n",
    "print(subspace_matrix.shape)"
   ]
  },
  {
   "cell_type": "markdown",
   "id": "6274b5c3",
   "metadata": {},
   "source": [
    "Step two is to run [PCA](https://en.wikipedia.org/wiki/Principal_component_analysis) over that `subspace_matrix` matrix.  The gender subspace in this example is the first principle component of that process. Here's how you run PCA on a random matrix to get the first principle component."
   ]
  },
  {
   "cell_type": "code",
   "execution_count": 8,
   "id": "ffc85869",
   "metadata": {},
   "outputs": [
    {
     "name": "stdout",
     "output_type": "stream",
     "text": [
      "fake matrix:\n",
      "[[0.09100511 0.82725414 0.53150732]\n",
      " [0.73859949 0.12534586 0.28251   ]\n",
      " [0.75730885 0.36063383 0.40465668]]\n",
      "first principle component:\n",
      "[-0.70878339  0.66941289  0.222514  ]\n"
     ]
    }
   ],
   "source": [
    "fake_matrix=np.random.rand(3,3)\n",
    "print(\"fake matrix:\")\n",
    "print(fake_matrix)\n",
    "\n",
    "# We only need one principle component, so we'll set n_components=1\n",
    "pca=PCA(n_components=1).fit(fake_matrix)\n",
    "subspace=pca.components_[0]\n",
    "\n",
    "print(\"first principle component:\")\n",
    "print(subspace)"
   ]
  },
  {
   "cell_type": "code",
   "execution_count": 9,
   "id": "b2f9c85b",
   "metadata": {},
   "outputs": [
    {
     "name": "stdout",
     "output_type": "stream",
     "text": [
      "[-0.70878339  0.66941289  0.222514  ]\n",
      "[-0.70878339  0.66941289  0.222514  ]\n"
     ]
    }
   ],
   "source": [
    "# You'll see that this subspace is already normalized to unit length:\n",
    "print(subspace)\n",
    "print(subspace/np.sqrt(np.dot(subspace, subspace)))"
   ]
  },
  {
   "cell_type": "markdown",
   "id": "00b2c16c",
   "metadata": {},
   "source": [
    "**Q2.** Run PCA on that subspace matrix to get the subspace axis."
   ]
  },
  {
   "cell_type": "code",
   "execution_count": 10,
   "id": "1c94a7c5",
   "metadata": {},
   "outputs": [
    {
     "name": "stdout",
     "output_type": "stream",
     "text": [
      "first principle component:\n"
     ]
    },
    {
     "data": {
      "text/plain": [
       "array([-0.02956821, -0.02041973,  0.09069765, -0.15537918, -0.00504958,\n",
       "       -0.11262711,  0.02766803, -0.08187196, -0.1678377 ,  0.0475144 ,\n",
       "        0.10393932,  0.03615956,  0.06527   , -0.14132844,  0.03927333,\n",
       "        0.04549308, -0.06324527, -0.03409998, -0.05121502, -0.01143592,\n",
       "        0.20441476, -0.03848183, -0.08002796, -0.24430752, -0.0583269 ,\n",
       "        0.06293844,  0.09939633,  0.23133436,  0.03535545,  0.0124524 ,\n",
       "       -0.08124342,  0.0319851 , -0.19318594,  0.01551938,  0.02306063,\n",
       "        0.06862629, -0.03819092,  0.09366054, -0.0873498 , -0.16789356,\n",
       "        0.06211457, -0.04531497,  0.23381914, -0.06133813, -0.06068353,\n",
       "       -0.06630228,  0.04470916, -0.09983315, -0.02139786, -0.08311246,\n",
       "       -0.01235847,  0.00183215, -0.07296807,  0.0010722 , -0.04861382,\n",
       "       -0.12487253,  0.02284342,  0.14009078,  0.13543136,  0.01898321,\n",
       "        0.05710227,  0.00638756, -0.15550055, -0.03771891,  0.00845029,\n",
       "        0.00582173,  0.02150673,  0.12136365, -0.10560768,  0.03943583,\n",
       "        0.024803  , -0.02133072,  0.0228967 , -0.26374167, -0.01454152,\n",
       "       -0.21747065, -0.02959751,  0.05996663, -0.01841845,  0.16749896,\n",
       "        0.2266691 , -0.07633926, -0.17107831, -0.09483258, -0.04704897,\n",
       "        0.20061383, -0.12689696, -0.11086631, -0.01933984,  0.01838946,\n",
       "       -0.09615587, -0.05588552, -0.10091676,  0.00992995,  0.123268  ,\n",
       "       -0.03957111, -0.03526806, -0.09114972,  0.02866075, -0.1027945 ],\n",
       "      dtype=float32)"
      ]
     },
     "execution_count": 10,
     "metadata": {},
     "output_type": "execute_result"
    }
   ],
   "source": [
    "# To do\n",
    "\n",
    "pca2=PCA(n_components=1).fit(subspace_matrix)\n",
    "subspace2=pca2.components_[0]\n",
    "\n",
    "print(\"first principle component:\")\n",
    "subspace2"
   ]
  },
  {
   "cell_type": "markdown",
   "id": "2462a09c",
   "metadata": {},
   "source": [
    "That subspace is the gender axis. You'll remember from class that we find the orthogoal projection of any unit-normalized vector $w$ onto a subspace $b$ by:\n",
    "\n",
    "$$\n",
    "w_b = \\textrm{dot}(w,b) \\; b\n",
    "$$\n",
    "\n",
    "If $b$ and $x$ are 100 dimensions, $w_b$ is 100 dimensions too.  The debiased vector $w_d$ is then simply $w - w_b$.  \n",
    "\n",
    "**Q3.** Debias the vectors for \"man\", \"woman\", and the targets used above (\"doctor\", \"nurse\", \"actor\", \"actress\", \"mechanic\", \"librarian\", \"architect\", \"magician\", \"cook\", \"chef\") and see if debiasing changes the differences between these terms and \"man\"/\"woman\" as noted above.  Glove embeddings are not normalized ahead of time, so be sure to normalize them before carrying out your projection (i.e., dividing vector v by $\\sqrt{\\textrm{dot}(v,v)}$).\n"
   ]
  },
  {
   "cell_type": "code",
   "execution_count": 11,
   "id": "2ea25c4a",
   "metadata": {},
   "outputs": [
    {
     "name": "stdout",
     "output_type": "stream",
     "text": [
      "0.103\tmagician\n",
      "0.084\tmechanic\n",
      "0.069\tarchitect\n",
      "0.041\tactor\n",
      "0.031\tcook\n",
      "0.008\tchef\n",
      "-0.024\tdoctor\n",
      "-0.087\tlibrarian\n",
      "-0.129\tactress\n",
      "-0.133\tnurse\n"
     ]
    }
   ],
   "source": [
    "targets=[\"doctor\", \"nurse\", \"actor\", \"actress\", \"mechanic\", \"librarian\", \"architect\", \"magician\", \"cook\", \"chef\"]\n",
    "diffs2={}\n",
    "for term in targets:\n",
    "    \n",
    "    w_b = np.dot(glove[term] / np.sqrt(np.dot(glove[\"man\"], glove[\"man\"])), subspace2) * subspace2\n",
    "    w_d = glove[term] - w_b\n",
    "    m,w=glove.cosine_similarities(w_d, [glove[\"man\"], glove[\"woman\"]])\n",
    "    diffs2[term]=m-w\n",
    "\n",
    "for k, v in sorted(diffs2.items(), key=lambda item: item[1], reverse=True):\n",
    "    print(\"%.3f\\t%s\" % (v,k))"
   ]
  },
  {
   "cell_type": "code",
   "execution_count": 12,
   "id": "ec4806ea",
   "metadata": {},
   "outputs": [
    {
     "name": "stdout",
     "output_type": "stream",
     "text": [
      "0.109\tmagician\n",
      "0.095\tmechanic\n",
      "0.082\tarchitect\n",
      "0.046\tactor\n",
      "0.035\tcook\n",
      "0.012\tchef\n",
      "-0.024\tdoctor\n",
      "-0.110\tlibrarian\n",
      "-0.154\tactress\n",
      "-0.158\tnurse\n"
     ]
    }
   ],
   "source": [
    "# Before de-biasing\n",
    "\n",
    "for k, v in sorted(diffs.items(), key=lambda item: item[1], reverse=True):\n",
    "    print(\"%.3f\\t%s\" % (v,k))"
   ]
  },
  {
   "cell_type": "markdown",
   "id": "a22018d7",
   "metadata": {},
   "source": [
    "**check-plus**. Reflect in 100 words on the differences between this gender axis construction and the axis construction in SemAxis.  How are they different?"
   ]
  },
  {
   "cell_type": "markdown",
   "id": "ef6585e0",
   "metadata": {},
   "source": [
    "The SemAxis is simply the remainder after substracting the mean of all negative vectors from the mean of all positive vectors. It only captures the mean difference between positive vectors and negative vectors on each of the dimensions. \\\n",
    "The gender axis is constructed as a vector that captures the most the variance in the difference between each vector to their postive-negative pair. This axis minimized the total residuals in all dimensions. \\\n",
    "In term of the overall variance explained of the gender difference, gender axis is better than SemAxis."
   ]
  },
  {
   "cell_type": "code",
   "execution_count": null,
   "id": "4e7c264f",
   "metadata": {},
   "outputs": [],
   "source": []
  }
 ],
 "metadata": {
  "kernelspec": {
   "display_name": "Python 3 (ipykernel)",
   "language": "python",
   "name": "python3"
  },
  "language_info": {
   "codemirror_mode": {
    "name": "ipython",
    "version": 3
   },
   "file_extension": ".py",
   "mimetype": "text/x-python",
   "name": "python",
   "nbconvert_exporter": "python",
   "pygments_lexer": "ipython3",
   "version": "3.11.4"
  }
 },
 "nbformat": 4,
 "nbformat_minor": 5
}
